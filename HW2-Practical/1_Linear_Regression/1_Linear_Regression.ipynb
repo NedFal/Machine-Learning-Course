{
  "cells": [
    {
      "cell_type": "markdown",
      "metadata": {
        "id": "16adc323"
      },
      "source": [
        "<br><font face=\"Times New Roman\" size=5><div dir=ltr align=center>\n",
        "<font color=blue size=8>\n",
        "    Introduction to Machine Learning <br>\n",
        "<font color=red size=5>\n",
        "    Sharif University of Technology - Computer Engineering Department <br>\n",
        "    Fall 2022<br> <br>\n",
        "<font color=black size=6>\n",
        "    Homework 2: Practical - Linear Regression\n",
        "    </div>\n",
        "<br><br>\n",
        "<font size=4>\n",
        "   **Name**: Neda Fallah<br>\n",
        "   **Student ID**: 98100226<br> <br>"
      ],
      "id": "16adc323"
    },
    {
      "cell_type": "markdown",
      "metadata": {
        "id": "2585264a"
      },
      "source": [
        "<font face=\"Times New Roman\" size=4><div dir=ltr>\n",
        "# Problem 1: Linear Regression Model (40 + 30 optional points)\n",
        "According to <a href=\"https://github.com/asharifiz/Introduction_to_Machine_Learning/blob/main/Jupyter_Notebooks/Chapter_02_Classical_Models/Linear%20regression.ipynb\"><font face=\"Roboto\">Linear Regression Notebook</font></a>, train a linear regression model on an arbitrary dataset. Explain your chosen dataset and split your data into train and test sets, then predict values for the test set using your trained model. Try to find the best hyperparameters for your model. (Using Lasso Regression, Ridge Regression or Elastic Net and comparing them will have extra optional points)\n",
        "<br> Explain each step of your workflow."
      ],
      "id": "2585264a"
    },
    {
      "cell_type": "code",
      "execution_count": 10,
      "metadata": {
        "id": "387d3a07"
      },
      "outputs": [],
      "source": [
        "#TODO\n",
        "#import libraries\n",
        "import numpy as np\n",
        "import pandas as pd\n",
        "import seaborn as sns\n",
        "import matplotlib.pyplot as plt\n",
        "from sklearn import preprocessing, svm\n",
        "from sklearn.model_selection import train_test_split\n",
        "from sklearn.linear_model import LinearRegression\n",
        "from sklearn.metrics import accuracy_score\n"
      ],
      "id": "387d3a07"
    },
    {
      "cell_type": "code",
      "execution_count": 15,
      "metadata": {
        "colab": {
          "base_uri": "https://localhost:8080/",
          "height": 206
        },
        "id": "B1gDP7bBYnG5",
        "outputId": "524c22d8-47ff-4af5-c11a-f34596c20498"
      },
      "outputs": [
        {
          "output_type": "execute_result",
          "data": {
            "text/plain": [
              "       Temp  Humidity\n",
              "0  9.472222      0.89\n",
              "1  9.355556      0.86\n",
              "2  9.377778      0.89\n",
              "3  8.288889      0.83\n",
              "4  8.755556      0.83"
            ],
            "text/html": [
              "\n",
              "  <div id=\"df-aa087a44-0305-41c5-8cd5-3fd48773b6d7\">\n",
              "    <div class=\"colab-df-container\">\n",
              "      <div>\n",
              "<style scoped>\n",
              "    .dataframe tbody tr th:only-of-type {\n",
              "        vertical-align: middle;\n",
              "    }\n",
              "\n",
              "    .dataframe tbody tr th {\n",
              "        vertical-align: top;\n",
              "    }\n",
              "\n",
              "    .dataframe thead th {\n",
              "        text-align: right;\n",
              "    }\n",
              "</style>\n",
              "<table border=\"1\" class=\"dataframe\">\n",
              "  <thead>\n",
              "    <tr style=\"text-align: right;\">\n",
              "      <th></th>\n",
              "      <th>Temp</th>\n",
              "      <th>Humidity</th>\n",
              "    </tr>\n",
              "  </thead>\n",
              "  <tbody>\n",
              "    <tr>\n",
              "      <th>0</th>\n",
              "      <td>9.472222</td>\n",
              "      <td>0.89</td>\n",
              "    </tr>\n",
              "    <tr>\n",
              "      <th>1</th>\n",
              "      <td>9.355556</td>\n",
              "      <td>0.86</td>\n",
              "    </tr>\n",
              "    <tr>\n",
              "      <th>2</th>\n",
              "      <td>9.377778</td>\n",
              "      <td>0.89</td>\n",
              "    </tr>\n",
              "    <tr>\n",
              "      <th>3</th>\n",
              "      <td>8.288889</td>\n",
              "      <td>0.83</td>\n",
              "    </tr>\n",
              "    <tr>\n",
              "      <th>4</th>\n",
              "      <td>8.755556</td>\n",
              "      <td>0.83</td>\n",
              "    </tr>\n",
              "  </tbody>\n",
              "</table>\n",
              "</div>\n",
              "      <button class=\"colab-df-convert\" onclick=\"convertToInteractive('df-aa087a44-0305-41c5-8cd5-3fd48773b6d7')\"\n",
              "              title=\"Convert this dataframe to an interactive table.\"\n",
              "              style=\"display:none;\">\n",
              "        \n",
              "  <svg xmlns=\"http://www.w3.org/2000/svg\" height=\"24px\"viewBox=\"0 0 24 24\"\n",
              "       width=\"24px\">\n",
              "    <path d=\"M0 0h24v24H0V0z\" fill=\"none\"/>\n",
              "    <path d=\"M18.56 5.44l.94 2.06.94-2.06 2.06-.94-2.06-.94-.94-2.06-.94 2.06-2.06.94zm-11 1L8.5 8.5l.94-2.06 2.06-.94-2.06-.94L8.5 2.5l-.94 2.06-2.06.94zm10 10l.94 2.06.94-2.06 2.06-.94-2.06-.94-.94-2.06-.94 2.06-2.06.94z\"/><path d=\"M17.41 7.96l-1.37-1.37c-.4-.4-.92-.59-1.43-.59-.52 0-1.04.2-1.43.59L10.3 9.45l-7.72 7.72c-.78.78-.78 2.05 0 2.83L4 21.41c.39.39.9.59 1.41.59.51 0 1.02-.2 1.41-.59l7.78-7.78 2.81-2.81c.8-.78.8-2.07 0-2.86zM5.41 20L4 18.59l7.72-7.72 1.47 1.35L5.41 20z\"/>\n",
              "  </svg>\n",
              "      </button>\n",
              "      \n",
              "  <style>\n",
              "    .colab-df-container {\n",
              "      display:flex;\n",
              "      flex-wrap:wrap;\n",
              "      gap: 12px;\n",
              "    }\n",
              "\n",
              "    .colab-df-convert {\n",
              "      background-color: #E8F0FE;\n",
              "      border: none;\n",
              "      border-radius: 50%;\n",
              "      cursor: pointer;\n",
              "      display: none;\n",
              "      fill: #1967D2;\n",
              "      height: 32px;\n",
              "      padding: 0 0 0 0;\n",
              "      width: 32px;\n",
              "    }\n",
              "\n",
              "    .colab-df-convert:hover {\n",
              "      background-color: #E2EBFA;\n",
              "      box-shadow: 0px 1px 2px rgba(60, 64, 67, 0.3), 0px 1px 3px 1px rgba(60, 64, 67, 0.15);\n",
              "      fill: #174EA6;\n",
              "    }\n",
              "\n",
              "    [theme=dark] .colab-df-convert {\n",
              "      background-color: #3B4455;\n",
              "      fill: #D2E3FC;\n",
              "    }\n",
              "\n",
              "    [theme=dark] .colab-df-convert:hover {\n",
              "      background-color: #434B5C;\n",
              "      box-shadow: 0px 1px 3px 1px rgba(0, 0, 0, 0.15);\n",
              "      filter: drop-shadow(0px 1px 2px rgba(0, 0, 0, 0.3));\n",
              "      fill: #FFFFFF;\n",
              "    }\n",
              "  </style>\n",
              "\n",
              "      <script>\n",
              "        const buttonEl =\n",
              "          document.querySelector('#df-aa087a44-0305-41c5-8cd5-3fd48773b6d7 button.colab-df-convert');\n",
              "        buttonEl.style.display =\n",
              "          google.colab.kernel.accessAllowed ? 'block' : 'none';\n",
              "\n",
              "        async function convertToInteractive(key) {\n",
              "          const element = document.querySelector('#df-aa087a44-0305-41c5-8cd5-3fd48773b6d7');\n",
              "          const dataTable =\n",
              "            await google.colab.kernel.invokeFunction('convertToInteractive',\n",
              "                                                     [key], {});\n",
              "          if (!dataTable) return;\n",
              "\n",
              "          const docLinkHtml = 'Like what you see? Visit the ' +\n",
              "            '<a target=\"_blank\" href=https://colab.research.google.com/notebooks/data_table.ipynb>data table notebook</a>'\n",
              "            + ' to learn more about interactive tables.';\n",
              "          element.innerHTML = '';\n",
              "          dataTable['output_type'] = 'display_data';\n",
              "          await google.colab.output.renderOutput(dataTable, element);\n",
              "          const docLink = document.createElement('div');\n",
              "          docLink.innerHTML = docLinkHtml;\n",
              "          element.appendChild(docLink);\n",
              "        }\n",
              "      </script>\n",
              "    </div>\n",
              "  </div>\n",
              "  "
            ]
          },
          "metadata": {},
          "execution_count": 15
        }
      ],
      "source": [
        "#Import dataset(it is uploaded in the practical folder) and take two columns temp and humidity from it.\n",
        "#In this exercise we want to study the influence of temperature on humidity.\n",
        "\n",
        "df = pd.read_csv('weatherHistory.csv')\n",
        "df_binary = df[['Temperature (C)', 'Humidity']]\n",
        "  \n",
        "# Taking only the selected two attributes from the dataset\n",
        "df_binary.columns = ['Temp', 'Humidity']\n",
        "#display the first 5 rows\n",
        "df_binary.head()"
      ],
      "id": "B1gDP7bBYnG5"
    },
    {
      "cell_type": "code",
      "execution_count": 16,
      "metadata": {
        "colab": {
          "base_uri": "https://localhost:8080/",
          "height": 386
        },
        "id": "rFlLJGeU5lox",
        "outputId": "01f47a40-e6f7-46fb-d99d-cd4d360273df"
      },
      "outputs": [
        {
          "output_type": "execute_result",
          "data": {
            "text/plain": [
              "<seaborn.axisgrid.FacetGrid at 0x7f5fb1aa2e90>"
            ]
          },
          "metadata": {},
          "execution_count": 16
        },
        {
          "output_type": "display_data",
          "data": {
            "text/plain": [
              "<Figure size 360x360 with 1 Axes>"
            ],
            "image/png": "[encoded data removed]"
          },
          "metadata": {
            "needs_background": "light"
          }
        }
      ],
      "source": [
        "#plot two columns\n",
        "sns.lmplot(x =\"Temp\", y =\"Humidity\", data = df_binary, order = 2, ci = None)"
      ],
      "id": "rFlLJGeU5lox"
    },
    {
      "cell_type": "code",
      "execution_count": 17,
      "metadata": {
        "colab": {
          "base_uri": "https://localhost:8080/"
        },
        "id": "S1DnTDbR5wmU",
        "outputId": "19148f12-998c-4656-c70e-e8a7ad7456d1"
      },
      "outputs": [
        {
          "output_type": "stream",
          "name": "stderr",
          "text": [
            "/usr/local/lib/python3.7/dist-packages/pandas/core/frame.py:5182: SettingWithCopyWarning: \n",
            "A value is trying to be set on a copy of a slice from a DataFrame\n",
            "\n",
            "See the caveats in the documentation: https://pandas.pydata.org/pandas-docs/stable/user_guide/indexing.html#returning-a-view-versus-a-copy\n",
            "  downcast=downcast,\n"
          ]
        }
      ],
      "source": [
        "#fill null methods as a data preprocessing step \n",
        "df_binary.fillna(method ='ffill', inplace = True)"
      ],
      "id": "S1DnTDbR5wmU"
    },
    {
      "cell_type": "code",
      "execution_count": 18,
      "metadata": {
        "colab": {
          "base_uri": "https://localhost:8080/"
        },
        "id": "LltgDXAN5wwN",
        "outputId": "dba30ba0-b2f2-437e-ff80-5e9f5bd5aa49"
      },
      "outputs": [
        {
          "output_type": "stream",
          "name": "stderr",
          "text": [
            "/usr/local/lib/python3.7/dist-packages/pandas/util/_decorators.py:311: SettingWithCopyWarning: \n",
            "A value is trying to be set on a copy of a slice from a DataFrame\n",
            "\n",
            "See the caveats in the documentation: https://pandas.pydata.org/pandas-docs/stable/user_guide/indexing.html#returning-a-view-versus-a-copy\n",
            "  return func(*args, **kwargs)\n"
          ]
        }
      ],
      "source": [
        "#Divide to test/train\n",
        "\n",
        "  \n",
        "# Converting each dataframe into a numpy array \n",
        "X = np.array(df_binary['Temp']).reshape(-1, 1)\n",
        "y = np.array(df_binary['Humidity']).reshape(-1, 1)\n",
        "\n",
        "#Each dataframe contains only one column.  Dropping any rows with Nan.\n",
        "df_binary.dropna(inplace = True)\n",
        "\n",
        "\n",
        "# Splitting the data into training and testing data. 75% of data is the train data.\n",
        "X_train, X_test, y_train, y_test = train_test_split(X, y, test_size = 0.25)\n",
        "  \n"
      ],
      "id": "LltgDXAN5wwN"
    },
    {
      "cell_type": "code",
      "source": [
        "#Fit linear regression\n",
        "\n",
        "regr = LinearRegression()\n",
        "regr.fit(X_train, y_train)\n",
        "\n",
        "\n",
        "# Predict a Response and print it:\n",
        "y_pred = regr.predict(X_test)\n",
        "print('Predicted response:', y_pred, sep='\\n')\n",
        "\n",
        "\n",
        "# Print the Intercept:\n",
        "print('intercept:', regr.intercept_)\n",
        "\n",
        "# Print the Slope:\n",
        "print('slope:', regr.coef_) \n",
        "\n"
      ],
      "metadata": {
        "colab": {
          "base_uri": "https://localhost:8080/"
        },
        "id": "9Gafa086Lp-7",
        "outputId": "ccc4d283-2d0e-4f65-ba1c-775e7697e64e"
      },
      "id": "9Gafa086Lp-7",
      "execution_count": 23,
      "outputs": [
        {
          "output_type": "stream",
          "name": "stdout",
          "text": [
            "Predicted response:\n",
            "[[0.83038443]\n",
            " [0.62548319]\n",
            " [0.84827602]\n",
            " ...\n",
            " [0.85906777]\n",
            " [0.73808658]\n",
            " [0.75683014]]\n",
            "R-Squared: 0.4142598177499004\n",
            "intercept: [0.88008328]\n",
            "slope: [[-0.0127797]]\n"
          ]
        }
      ]
    },
    {
      "cell_type": "code",
      "execution_count": null,
      "metadata": {
        "colab": {
          "base_uri": "https://localhost:8080/",
          "height": 266
        },
        "id": "hun6HYBY58eL",
        "outputId": "2f437576-8d44-4f3d-a7eb-503304dbbbc2"
      },
      "outputs": [
        {
          "data": {
            "image/png": "[encoded data removed]",
            "text/plain": [
              "<Figure size 432x288 with 1 Axes>"
            ]
          },
          "metadata": {},
          "output_type": "display_data"
        }
      ],
      "source": [
        "#plot linear regression line on data\n",
        "y_pred = regr.predict(X_test)\n",
        "plt.scatter(X_test, y_test, color ='b')\n",
        "plt.plot(X_test, y_pred, color ='k')\n",
        "  \n",
        "plt.show()\n",
        "# Data scatter of predicted values"
      ],
      "id": "hun6HYBY58eL"
    },
    {
      "cell_type": "code",
      "execution_count": 30,
      "metadata": {
        "colab": {
          "base_uri": "https://localhost:8080/"
        },
        "id": "-OK5ADmm6Fjj",
        "outputId": "05fd8807-98d6-47ba-f0e2-8b892da503af"
      },
      "outputs": [
        {
          "output_type": "stream",
          "name": "stdout",
          "text": [
            "R-Squared: 0.4142598177450998\n",
            "MAE: 0.12115276654665848\n",
            "MSE: 0.02249283703808067\n",
            "RMSE: 0.1499761215596692\n"
          ]
        }
      ],
      "source": [
        "#Metrics: erros of linear regression : mean abs and mean squared, R squared\n",
        "from sklearn.metrics import mean_absolute_error,mean_squared_error, r2_score\n",
        "\n",
        "'''\n",
        "R-Squared, is a statistical measure in a regression model that determines the proportion of variance\n",
        "in the dependent variable that can be explained by the independent variable. It is used to measure goodness of fit.\n",
        " '''\n",
        "print('R-Squared:', r2_score(y_test, y_pred))\n",
        "\n",
        "\n",
        "  \n",
        "mae = mean_absolute_error(y_true=y_test,y_pred=y_pred)\n",
        "#squared True returns MSE value, False returns RMSE value.\n",
        "mse = mean_squared_error(y_true=y_test,y_pred=y_pred) #default=True\n",
        "rmse = mean_squared_error(y_true=y_test,y_pred=y_pred,squared=False)\n",
        "  \n",
        "print(\"MAE:\",mae)\n",
        "print(\"MSE:\",mse)\n",
        "print(\"RMSE:\",rmse)"
      ],
      "id": "-OK5ADmm6Fjj"
    },
    {
      "cell_type": "code",
      "execution_count": 40,
      "metadata": {
        "colab": {
          "base_uri": "https://localhost:8080/"
        },
        "id": "yuvHyk_w8Cx2",
        "outputId": "8d6e7e71-a7c6-4a13-c398-fbda12e2b602"
      },
      "outputs": [
        {
          "output_type": "stream",
          "name": "stdout",
          "text": [
            "RMSE for test in ridge: 0.14997618349393\n",
            "R2 for ridge 0.4142593339695183\n"
          ]
        }
      ],
      "source": [
        "#ridge regression and errors\n",
        "from sklearn.linear_model import Ridge\n",
        "from sklearn.metrics import r2_score\n",
        "from sklearn.preprocessing import StandardScaler\n",
        "\n",
        "#first we scale the data\n",
        "\n",
        "scaler = StandardScaler().fit(X_train)\n",
        "X_train_new = scaler.transform(X_train)\n",
        "X_test_new = scaler.transform(X_test)\n",
        "\n",
        "# define model\n",
        "model = Ridge(alpha=0.01) \n",
        "\n",
        "# fit model\n",
        "model.fit(X_train_new, y_train) \n",
        "#predict\n",
        "pred_test_rr = model.predict(X_test_new)\n",
        "#see metrics\n",
        "print(\"RMSE for test in ridge:\", np.sqrt(mean_squared_error(y_test,pred_test_rr))) \n",
        "print(\"R2 for ridge\", r2_score(y_test, pred_test_rr))\n",
        "\n",
        "\n"
      ],
      "id": "yuvHyk_w8Cx2"
    },
    {
      "cell_type": "code",
      "execution_count": 29,
      "metadata": {
        "colab": {
          "base_uri": "https://localhost:8080/",
          "height": 266
        },
        "id": "ySG6GQJC8yD7",
        "outputId": "dc59143e-7c04-41f5-8826-4bdd302dde8d"
      },
      "outputs": [
        {
          "output_type": "display_data",
          "data": {
            "text/plain": [
              "<Figure size 432x288 with 1 Axes>"
            ],
            "image/png": "[encoded data removed]"
          },
          "metadata": {
            "needs_background": "light"
          }
        }
      ],
      "source": [
        "y_pred = rr.predict(X_test)\n",
        "plt.scatter(X_test, y_test, color ='b')\n",
        "plt.plot(X_test, y_pred, color ='k')\n",
        "  \n",
        "plt.show()\n",
        "# Data scatter of predicted values"
      ],
      "id": "ySG6GQJC8yD7"
    },
    {
      "cell_type": "code",
      "execution_count": 41,
      "metadata": {
        "colab": {
          "base_uri": "https://localhost:8080/"
        },
        "id": "3OdmeQ3S_b4z",
        "outputId": "dd8dedd1-b9f7-4e3e-9c3f-5df3c5a8f3c3"
      },
      "outputs": [
        {
          "output_type": "stream",
          "name": "stdout",
          "text": [
            "0.14998164010407516\n",
            "0.4142167109805951\n"
          ]
        }
      ],
      "source": [
        "#lasso regression\n",
        "#same stuff as for ridge\n",
        "from sklearn.linear_model import Lasso\n",
        "model_lasso = Lasso(alpha=0.01)\n",
        "model_lasso.fit(X_train, y_train) \n",
        "pred_test_lasso= model_lasso.predict(X_test)\n",
        "print(np.sqrt(mean_squared_error(y_test,pred_test_lasso))) \n",
        "print(r2_score(y_test, pred_test_lasso))"
      ],
      "id": "3OdmeQ3S_b4z"
    },
    {
      "cell_type": "markdown",
      "metadata": {
        "id": "pmljkVh9Atmc"
      },
      "source": [],
      "id": "pmljkVh9Atmc"
    },
    {
      "cell_type": "code",
      "execution_count": 42,
      "metadata": {
        "colab": {
          "base_uri": "https://localhost:8080/",
          "height": 267
        },
        "id": "ha4uZKfSA11V",
        "outputId": "3f992448-1cbd-4667-97c8-9cf4a088d14a"
      },
      "outputs": [
        {
          "output_type": "display_data",
          "data": {
            "text/plain": [
              "<Figure size 432x288 with 1 Axes>"
            ],
            "image/png": "[encoded data removed]"
          },
          "metadata": {
            "needs_background": "light"
          }
        }
      ],
      "source": [
        "y_pred = model_lasso.predict(X_test)\n",
        "plt.scatter(X_test, y_test, color ='b')\n",
        "plt.plot(X_test, y_pred, color ='k')\n",
        "  \n",
        "plt.show()\n",
        "# Data scatter of predicted values\n",
        "\n",
        "\n",
        "\n",
        "#?????? WHY ARE ALL THE SAME?XS"
      ],
      "id": "ha4uZKfSA11V"
    },
    {
      "cell_type": "code",
      "source": [
        "#Elastic Net\n",
        "from sklearn import linear_model\n",
        "from sklearn.linear_model import ElasticNet\n",
        "\n",
        "ENreg = ElasticNet(alpha =0.1,random_state = 0)\n",
        "ENreg.fit(X_train, y_train)\n",
        "pred_test_EN= ENreg.predict(X_test)\n",
        "print(np.sqrt(mean_squared_error(y_test,pred_test_EN)) )\n",
        "print(r2_score(y_test, pred_test_EN))"
      ],
      "metadata": {
        "colab": {
          "base_uri": "https://localhost:8080/"
        },
        "id": "oOfuiODBWVqk",
        "outputId": "e9de47a1-a7e7-4499-df4d-1f1dc45a2e87"
      },
      "id": "oOfuiODBWVqk",
      "execution_count": 54,
      "outputs": [
        {
          "output_type": "stream",
          "name": "stdout",
          "text": [
            "0.15007640635057176\n",
            "0.41347622005960116\n"
          ]
        }
      ]
    },
    {
      "cell_type": "code",
      "source": [
        "'''\n",
        "After trying different hyperparameters for riidge, lasso and elasticnet, I found out the best parameter\n",
        "for them creates the same results as linear regression!\n",
        "'''"
      ],
      "metadata": {
        "colab": {
          "base_uri": "https://localhost:8080/",
          "height": 53
        },
        "id": "_lxTTUG9XY2N",
        "outputId": "fce486ca-6d8c-4649-97fa-30b76da504f1"
      },
      "id": "_lxTTUG9XY2N",
      "execution_count": 56,
      "outputs": [
        {
          "output_type": "execute_result",
          "data": {
            "text/plain": [
              "'\\nAfter trying different hyperparameters for riidge, lasso and elasticnet, I found out the best parameter\\nfor them creates the same results as linear regression!\\n\\n'"
            ],
            "application/vnd.google.colaboratory.intrinsic+json": {
              "type": "string"
            }
          },
          "metadata": {},
          "execution_count": 56
        }
      ]
    }
  ],
  "metadata": {
    "colab": {
      "provenance": []
    },
    "kernelspec": {
      "display_name": "Python 3 (ipykernel)",
      "language": "python",
      "name": "python3"
    },
    "language_info": {
      "codemirror_mode": {
        "name": "ipython",
        "version": 3
      },
      "file_extension": ".py",
      "mimetype": "text/x-python",
      "name": "python",
      "nbconvert_exporter": "python",
      "pygments_lexer": "ipython3",
      "version": "3.9.7"
    }
  },
  "nbformat": 4,
  "nbformat_minor": 5
}