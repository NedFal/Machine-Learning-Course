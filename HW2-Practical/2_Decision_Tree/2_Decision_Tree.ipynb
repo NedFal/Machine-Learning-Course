{
  "cells": [
    {
      "cell_type": "markdown",
      "id": "6baf2598",
      "metadata": {
        "ExecuteTime": {
          "end_time": "2022-10-22T21:06:33.084910Z",
          "start_time": "2022-10-22T21:06:33.065246Z"
        },
        "id": "6baf2598"
      },
      "source": [
        "<br><font face=\"Times New Roman\" size=5><div dir=ltr align=center>\n",
        "<font color=blue size=8>\n",
        "    Introduction to Machine Learning <br>\n",
        "<font color=red size=5>\n",
        "    Sharif University of Technology - Computer Engineering Department <br>\n",
        "    Fall 2022<br> <br>\n",
        "<font color=black size=6>\n",
        "    Homework 2: Practical - Decision Tree   \n",
        "<font color=black size=4>\n",
        "    Hamidreza Yaghoubi \n",
        "    \n",
        "<br><br>\n",
        "<font size=4>\n",
        "In this homework, we are going to implement the Classification Decision Tree. Keep in mind to complete all of the following questions and write your own codes in the TODO cells."
      ]
    },
    {
      "cell_type": "markdown",
      "id": "bd3871b7",
      "metadata": {
        "id": "bd3871b7"
      },
      "source": [
        "<font face=\"Times New Roman\" size=4><div dir=ltr>\n",
        "# Problem 2: Classification Decision Tree (100 points)\n",
        "We will implement a Classification Decision Tree from scratch in the following problem. Then we will use our model to predict malignant and benign breast cancer. For this purpose, we will use the breast_cancer.csv dataset which you can find more details about it <a href=\"https://www.kaggle.com/datasets/merishnasuwal/breast-cancer-prediction-dataset\"><font face=\"Roboto\">here</font></a>."
      ]
    },
    {
      "cell_type": "code",
      "execution_count": 4,
      "id": "ccdebb27",
      "metadata": {
        "ExecuteTime": {
          "end_time": "2022-10-22T21:30:24.876526Z",
          "start_time": "2022-10-22T21:30:24.439793Z"
        },
        "id": "ccdebb27"
      },
      "outputs": [],
      "source": [
        "import pandas as pd\n",
        "from sklearn.model_selection import train_test_split\n",
        "from sklearn.metrics import accuracy_score\n",
        "from math import log\n",
        "import random"
      ]
    },
    {
      "cell_type": "markdown",
      "id": "e2307c50",
      "metadata": {
        "id": "e2307c50"
      },
      "source": [
        "<font face=\"Times New Roman\" size=4><div dir=ltr>\n",
        "## Classification Decision Tree Class (60 points)\n",
        "In this section, you only need to fill TODO parts. You can find the logic and formula in both course slides and the web, but fill it out on your own. "
      ]
    },
    {
      "cell_type": "code",
      "execution_count": 7,
      "id": "618baebb",
      "metadata": {
        "ExecuteTime": {
          "end_time": "2022-10-22T21:30:25.034364Z",
          "start_time": "2022-10-22T21:30:25.021627Z"
        },
        "id": "618baebb"
      },
      "outputs": [],
      "source": [
        "class Node:\n",
        "    def __init__(self, feature=None, threshold=None, left=None, right=None, value=None):\n",
        "        self.feature = feature\n",
        "        self.threshold = threshold\n",
        "        self.left = left\n",
        "        self.right = right\n",
        "        self.value = value\n",
        "\n",
        "    def is_leaf(self):\n",
        "        if self.value is not None:\n",
        "            return True\n",
        "        return False"
      ]
    },
    {
      "cell_type": "code",
      "execution_count": 10,
      "id": "71b3b483",
      "metadata": {
        "ExecuteTime": {
          "end_time": "2022-10-22T21:30:25.439792Z",
          "start_time": "2022-10-22T21:30:25.404649Z"
        },
        "id": "71b3b483"
      },
      "outputs": [],
      "source": [
        "class DecisionTree:\n",
        "    def __init__(self, max_depth=None, min_samples_split=2):\n",
        "        self.max_depth = max_depth\n",
        "        self.min_samples_split = min_samples_split\n",
        "        self.root = None\n",
        "\n",
        "    def is_splitting_finished(self, depth, num_class_labels, num_samples):\n",
        "\n",
        "        #TODO\n",
        "        if depth == self.max_depth:\n",
        "            return True\n",
        "        if num_samples <= self.min_samples_split:\n",
        "            return True\n",
        "\n",
        "        if num_class_labels == 1:\n",
        "            return True\n",
        "\n",
        "        \n",
        "        return False\n",
        "\n",
        "    def split(self, X, y, feature, threshold):\n",
        "        left_indexes = X[feature] <= threshold\n",
        "        right_indexes = -left_indexes\n",
        "        X_left = X[left_indexes]\n",
        "        y_left = y[left_indexes]\n",
        "        X_right = X[right_indexes]\n",
        "        y_right = y[right_indexes]\n",
        "\n",
        "        return X_left, X_right, y_left, y_right\n",
        "\n",
        "    def entropy(self, y):\n",
        "        \n",
        "        #TODO\n",
        "        p = len(y[y.diagnosis == 1]) / len(y)\n",
        "        if p == 1 or p == 0:\n",
        "            ent=0\n",
        "        else:\n",
        "           ent = -p * log(p, 2) - (1 - p) * log(1 - p, 2)\n",
        "        return ent\n",
        "\n",
        "\n",
        "#HERE\n",
        "    def information_gain(self, X, y, feature, threshold):\n",
        "        X_left, X_right, y_left, y_right = self.split(X, y, feature, threshold)\n",
        "\n",
        "        H_y = self.entropy(y)\n",
        "        p = len(X[X[feature] >= threshold]) / len(X)\n",
        "        #TODO\n",
        "        if len(y_left) != 0:\n",
        "            # TODO\n",
        "              weight_l= len(y_left) / p\n",
        "        else:\n",
        "            # TODO\n",
        "              weight_l = 0\n",
        "        if len(y_right) != 0:\n",
        "            # TODO\n",
        "                weight_r = len(y_right) / p\n",
        "        else:\n",
        "            # TODO\n",
        "           weight_r = 0\n",
        "        H_y_given_x = (weight_l*self.entropy(y_left) + weight_r*self.entropy(y_right))\n",
        "        # TODO\n",
        "        ig = H_y - H_y_given_x\n",
        "        return ig\n",
        "        \n",
        "    \n",
        "\n",
        "\n",
        "\n",
        "\n",
        "\n",
        "    def best_split(self, X, y):\n",
        "\n",
        "        #TODO\n",
        "        features = list(X.columns.values)\n",
        "        random.shuffle(features)\n",
        "        best_information_gain = 0\n",
        "        best_feature = None\n",
        "        best_threshold = None\n",
        "        for feature in features:\n",
        "            thresholds = list(set(list(X[feature])))\n",
        "            for threshold in thresholds:\n",
        "                info_gain = self.information_gain(X, y, feature, threshold)\n",
        "                if info_gain >= best_information_gain:\n",
        "                    best_information_gain = info_gain\n",
        "                    best_feature = feature\n",
        "                    best_threshold = threshold\n",
        "            \n",
        "        return best_feature, best_threshold\n",
        "\n",
        "    def build_tree(self, X, y, depth=0):\n",
        "        if self.is_splitting_finished(depth, len(X.columns), len(X)):\n",
        "            return None\n",
        "\n",
        "        best_feature, best_threshold = self.best_split(X, y)\n",
        "        X_left, X_right, y_left, y_right = self.split(X, y, best_feature, best_threshold)\n",
        "\n",
        "        left_node = self.build_tree(X_left, y_left, depth=depth + 1)\n",
        "        right_node = self.build_tree(X_right, y_right, depth=depth + 1)\n",
        "\n",
        "        value = None\n",
        "        if left_node is None or right_node is None:\n",
        "            true_value = len(y[y['diagnosis'] == 1])\n",
        "            false_value = len(y[y['diagnosis'] == 0])\n",
        "            if true_value >= false_value:\n",
        "                value = 1\n",
        "            else:\n",
        "                value = 0\n",
        "\n",
        "        return Node(feature=best_feature, threshold=best_threshold, left=left_node, right=right_node, value=value)\n",
        "\n",
        "    def fit(self, X, y):\n",
        "        self.root = self.build_tree(X, y)\n",
        "\n",
        "    def predict(self, X):\n",
        "        tree = self.root\n",
        "        predicted_value = []\n",
        "        for index in list(X.index):\n",
        "            data = X.loc[index]\n",
        "            current_tree = tree\n",
        "            for depth in range(self.max_depth):\n",
        "                if Node.is_leaf(current_tree):\n",
        "                    predicted_value.append(current_tree.value)\n",
        "                    break\n",
        "                feature = current_tree.feature\n",
        "                threshold = current_tree.threshold\n",
        "                if data[feature] <= threshold:\n",
        "                    current_tree = current_tree.left\n",
        "                if data[feature] > threshold:\n",
        "                    current_tree = current_tree.right\n",
        "\n",
        "        return predicted_value"
      ]
    },
    {
      "cell_type": "markdown",
      "id": "8e2197f0",
      "metadata": {
        "id": "8e2197f0"
      },
      "source": [
        "<font face=\"Times New Roman\" size=4><div dir=ltr>\n",
        "## Data Prepration (20 points)\n",
        "In this section, you must perform a good EDA for data. Then split it into train and validation data. We will then use the validation data to find the best model hyperparameters.  "
      ]
    },
    {
      "cell_type": "code",
      "execution_count": 11,
      "id": "da5a4d94",
      "metadata": {
        "ExecuteTime": {
          "end_time": "2022-10-22T21:30:26.199958Z",
          "start_time": "2022-10-22T21:30:26.192910Z"
        },
        "id": "da5a4d94"
      },
      "outputs": [],
      "source": [
        "breast_data = pd.read_csv(\"breast_cancer.csv\")"
      ]
    },
    {
      "cell_type": "code",
      "execution_count": null,
      "id": "27207399",
      "metadata": {
        "ExecuteTime": {
          "end_time": "2022-10-22T21:30:28.478997Z",
          "start_time": "2022-10-22T21:30:28.476044Z"
        },
        "id": "27207399"
      },
      "outputs": [],
      "source": [
        "# TODO"
      ]
    },
    {
      "cell_type": "code",
      "execution_count": 34,
      "id": "39ba4c34",
      "metadata": {
        "ExecuteTime": {
          "end_time": "2022-10-22T21:30:38.003703Z",
          "start_time": "2022-10-22T21:30:37.996292Z"
        },
        "id": "39ba4c34"
      },
      "outputs": [],
      "source": [
        "#the last column is the label column(y) and other columns are X\n",
        "X = pd.DataFrame(breast_data.iloc[:, :-1].values)\n",
        "y = pd.DataFrame(breast_data.iloc[:, -1].values.reshape(-1,1))\n",
        "\n",
        "\n",
        "\n",
        "x_train, x_val, y_train, y_val = train_test_split(X, y, test_size=0.30, random_state=42)\n"
      ]
    },
    {
      "cell_type": "code",
      "source": [
        "print(len(y_val))\n",
        "print(len(y_train))\n",
        "print(len(x_val))\n",
        "print(len(x_train))\n"
      ],
      "metadata": {
        "colab": {
          "base_uri": "https://localhost:8080/"
        },
        "id": "rr6NkPRphz96",
        "outputId": "0849c7cf-9f36-43ee-dd69-8bb514208ff9"
      },
      "id": "rr6NkPRphz96",
      "execution_count": 38,
      "outputs": [
        {
          "output_type": "stream",
          "name": "stdout",
          "text": [
            "171\n",
            "398\n",
            "171\n",
            "398\n"
          ]
        }
      ]
    },
    {
      "cell_type": "markdown",
      "id": "cefd7a92",
      "metadata": {
        "id": "cefd7a92"
      },
      "source": [
        "<font face=\"Times New Roman\" size=4><div dir=ltr>\n",
        "## Training And Tuning Hyperparameters (20 points)\n",
        "In this section, you only need to find the best hyperparameters for your model. You can test different values and permutations of hyperparameters by adding them to the lists below. Your model must have at least accuracy=0.85 on validation data."
      ]
    },
    {
      "cell_type": "code",
      "execution_count": 29,
      "id": "assigned-estate",
      "metadata": {
        "ExecuteTime": {
          "end_time": "2022-10-22T21:36:15.733600Z",
          "start_time": "2022-10-22T21:36:15.730426Z"
        },
        "id": "assigned-estate"
      },
      "outputs": [],
      "source": [
        "#HERE\n",
        "max_depths = 2\n",
        "#HERE\n",
        "min_samples_splits = 2"
      ]
    },
    {
      "cell_type": "code",
      "execution_count": 43,
      "id": "58003410",
      "metadata": {
        "id": "58003410",
        "colab": {
          "base_uri": "https://localhost:8080/",
          "height": 356
        },
        "outputId": "85415f9e-4848-4436-c029-40e0137fbd3a"
      },
      "outputs": [
        {
          "output_type": "error",
          "ename": "AttributeError",
          "evalue": "ignored",
          "traceback": [
            "\u001b[0;31m---------------------------------------------------------------------------\u001b[0m",
            "\u001b[0;31mAttributeError\u001b[0m                            Traceback (most recent call last)",
            "\u001b[0;32m<ipython-input-43-8fdaf6f97f5e>\u001b[0m in \u001b[0;36m<module>\u001b[0;34m\u001b[0m\n\u001b[1;32m      7\u001b[0m         \u001b[0mclf\u001b[0m \u001b[0;34m=\u001b[0m \u001b[0mDecisionTree\u001b[0m\u001b[0;34m(\u001b[0m\u001b[0mmax_depth\u001b[0m\u001b[0;34m,\u001b[0m \u001b[0mmin_samples_split\u001b[0m\u001b[0;34m)\u001b[0m\u001b[0;34m\u001b[0m\u001b[0;34m\u001b[0m\u001b[0m\n\u001b[1;32m      8\u001b[0m         \u001b[0mclf\u001b[0m\u001b[0;34m.\u001b[0m\u001b[0mfit\u001b[0m\u001b[0;34m(\u001b[0m\u001b[0mx_train\u001b[0m\u001b[0;34m,\u001b[0m \u001b[0my_train\u001b[0m\u001b[0;34m)\u001b[0m\u001b[0;34m\u001b[0m\u001b[0;34m\u001b[0m\u001b[0m\n\u001b[0;32m----> 9\u001b[0;31m         \u001b[0my_val_pred\u001b[0m \u001b[0;34m=\u001b[0m \u001b[0mclf\u001b[0m\u001b[0;34m.\u001b[0m\u001b[0mpredict\u001b[0m\u001b[0;34m(\u001b[0m\u001b[0mx_val\u001b[0m\u001b[0;34m.\u001b[0m\u001b[0mreshape\u001b[0m\u001b[0;34m)\u001b[0m\u001b[0;34m\u001b[0m\u001b[0;34m\u001b[0m\u001b[0m\n\u001b[0m\u001b[1;32m     10\u001b[0m         \u001b[0my_train_pred\u001b[0m \u001b[0;34m=\u001b[0m \u001b[0mclf\u001b[0m\u001b[0;34m.\u001b[0m\u001b[0mpredict\u001b[0m\u001b[0;34m(\u001b[0m\u001b[0mx_train\u001b[0m\u001b[0;34m)\u001b[0m\u001b[0;34m\u001b[0m\u001b[0;34m\u001b[0m\u001b[0m\n\u001b[1;32m     11\u001b[0m         \u001b[0maccuracy\u001b[0m \u001b[0;34m=\u001b[0m \u001b[0maccuracy_score\u001b[0m\u001b[0;34m(\u001b[0m\u001b[0my_val_pred\u001b[0m\u001b[0;34m,\u001b[0m \u001b[0my_val\u001b[0m\u001b[0;34m)\u001b[0m\u001b[0;34m\u001b[0m\u001b[0;34m\u001b[0m\u001b[0m\n",
            "\u001b[0;32m/usr/local/lib/python3.7/dist-packages/pandas/core/generic.py\u001b[0m in \u001b[0;36m__getattr__\u001b[0;34m(self, name)\u001b[0m\n\u001b[1;32m   5485\u001b[0m         ):\n\u001b[1;32m   5486\u001b[0m             \u001b[0;32mreturn\u001b[0m \u001b[0mself\u001b[0m\u001b[0;34m[\u001b[0m\u001b[0mname\u001b[0m\u001b[0;34m]\u001b[0m\u001b[0;34m\u001b[0m\u001b[0;34m\u001b[0m\u001b[0m\n\u001b[0;32m-> 5487\u001b[0;31m         \u001b[0;32mreturn\u001b[0m \u001b[0mobject\u001b[0m\u001b[0;34m.\u001b[0m\u001b[0m__getattribute__\u001b[0m\u001b[0;34m(\u001b[0m\u001b[0mself\u001b[0m\u001b[0;34m,\u001b[0m \u001b[0mname\u001b[0m\u001b[0;34m)\u001b[0m\u001b[0;34m\u001b[0m\u001b[0;34m\u001b[0m\u001b[0m\n\u001b[0m\u001b[1;32m   5488\u001b[0m \u001b[0;34m\u001b[0m\u001b[0m\n\u001b[1;32m   5489\u001b[0m     \u001b[0;32mdef\u001b[0m \u001b[0m__setattr__\u001b[0m\u001b[0;34m(\u001b[0m\u001b[0mself\u001b[0m\u001b[0;34m,\u001b[0m \u001b[0mname\u001b[0m\u001b[0;34m:\u001b[0m \u001b[0mstr\u001b[0m\u001b[0;34m,\u001b[0m \u001b[0mvalue\u001b[0m\u001b[0;34m)\u001b[0m \u001b[0;34m->\u001b[0m \u001b[0;32mNone\u001b[0m\u001b[0;34m:\u001b[0m\u001b[0;34m\u001b[0m\u001b[0;34m\u001b[0m\u001b[0m\n",
            "\u001b[0;31mAttributeError\u001b[0m: 'DataFrame' object has no attribute 'reshape'"
          ]
        }
      ],
      "source": [
        "best_max_depth = None\n",
        "best_min_samples_split = None\n",
        "best_accuracy = 0\n",
        "best_model = None\n",
        "for max_depth in range(max_depths):\n",
        "    for min_samples_split in range(min_samples_splits):\n",
        "        clf = DecisionTree(max_depth, min_samples_split)\n",
        "        clf.fit(x_train, y_train)\n",
        "        y_val_pred = clf.predict(x_val)\n",
        "        y_train_pred = clf.predict(x_train)\n",
        "        print(len(y_val))\n",
        "        print(len(y_val_pred))\n",
        "        accuracy = accuracy_score(y_val_pred, y_val)\n",
        "        train_accuracy = accuracy_score(y_train_pred, y_train)\n",
        "        #HERE\n",
        "        print(f\"accuracy of training set for min_samples_splits={min_samples_split}-max_depths={max_depth} ={train_accuracy}\")\n",
        "        print(f\"accuracy of validation set for min_samples_splits={min_samples_split}-max_depths={max_depth} ={accuracy}\")\n",
        "        print(\"------------------------------------------------\")\n",
        "\n",
        "        \n",
        "        if accuracy >= best_accuracy:\n",
        "            best_accuracy = accuracy\n",
        "            best_max_depth = max_depth\n",
        "            best_min_samples_split = min_samples_split\n",
        "            best_model = clf"
      ]
    },
    {
      "cell_type": "markdown",
      "source": [],
      "metadata": {
        "id": "EboSmBuJaZ9w"
      },
      "id": "EboSmBuJaZ9w"
    }
  ],
  "metadata": {
    "kernelspec": {
      "display_name": "Python 3 (ipykernel)",
      "language": "python",
      "name": "python3"
    },
    "language_info": {
      "codemirror_mode": {
        "name": "ipython",
        "version": 3
      },
      "file_extension": ".py",
      "mimetype": "text/x-python",
      "name": "python",
      "nbconvert_exporter": "python",
      "pygments_lexer": "ipython3",
      "version": "3.9.7"
    },
    "toc": {
      "base_numbering": 1,
      "nav_menu": {},
      "number_sections": true,
      "sideBar": true,
      "skip_h1_title": false,
      "title_cell": "Table of Contents",
      "title_sidebar": "Contents",
      "toc_cell": false,
      "toc_position": {},
      "toc_section_display": true,
      "toc_window_display": false
    },
    "varInspector": {
      "cols": {
        "lenName": 16,
        "lenType": 16,
        "lenVar": 40
      },
      "kernels_config": {
        "python": {
          "delete_cmd_postfix": "",
          "delete_cmd_prefix": "del ",
          "library": "var_list.py",
          "varRefreshCmd": "print(var_dic_list())"
        },
        "r": {
          "delete_cmd_postfix": ") ",
          "delete_cmd_prefix": "rm(",
          "library": "var_list.r",
          "varRefreshCmd": "cat(var_dic_list()) "
        }
      },
      "types_to_exclude": [
        "module",
        "function",
        "builtin_function_or_method",
        "instance",
        "_Feature"
      ],
      "window_display": false
    },
    "colab": {
      "provenance": []
    }
  },
  "nbformat": 4,
  "nbformat_minor": 5
}