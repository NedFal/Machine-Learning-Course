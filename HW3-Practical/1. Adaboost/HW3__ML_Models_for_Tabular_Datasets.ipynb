{
  "cells": [
    {
      "cell_type": "markdown",
      "id": "52d3a943",
      "metadata": {
        "id": "52d3a943"
      },
      "source": [
        "<img src='http://www-scf.usc.edu/~ghasemig/images/sharif.png' alt=\"SUT logo\" width=200 height=200 align=left class=\"saturate\" >\n",
        "\n",
        "<br>\n",
        "<font face=\"Times New Roman\">\n",
        "<div dir=ltr align=center>\n",
        "<font color=0F5298 size=7>\n",
        "    Introduction to Machine Learning <br>\n",
        "<font color=2565AE size=5>\n",
        "    Computer Engineering Department <br>\n",
        "    Fall 2022<br>\n",
        "<font color=3C99D size=5>\n",
        "    Homework 3: Practical - ML Models for Tabular Datasets <br>\n",
        "<font color=696880 size=4>\n",
        "    Niloufar Razani \n",
        "    \n",
        "    \n",
        "____"
      ]
    },
    {
      "cell_type": "markdown",
      "id": "afcf1f24",
      "metadata": {
        "id": "afcf1f24"
      },
      "source": [
        "### Full Name : Neda Fallah \n",
        "### Student Number : 98100226\n",
        "___"
      ]
    },
    {
      "cell_type": "markdown",
      "id": "8c097381",
      "metadata": {
        "id": "8c097381"
      },
      "source": [
        "<font face=\"Times New Roman\" size=4><div dir=ltr>\n",
        "In this homework we are going to implement Adaboost algorithm from scratch. Please read this chapter's <a href=\"https://github.com/asharifiz/Introduction_to_Machine_Learning/tree/main/Jupyter_Notebooks/Chapter_04_Tabular_Data_Models\"><font face=\"Roboto\">notebook</font></a> and then complete the #TODO sections. <br>\n",
        "We will use the heart_disease.csv dataset, which you can see more details about in this <a href=\"https://www.kaggle.com/datasets/johnsmith88/heart-disease-dataset?resource=download&select=heart.csv\"><font face=\"Roboto\">Link</font></a>.\n",
        "___"
      ]
    },
    {
      "cell_type": "code",
      "execution_count": 3,
      "id": "1a687a71",
      "metadata": {
        "id": "1a687a71"
      },
      "outputs": [],
      "source": [
        "import numpy as np\n",
        "import pandas as pd\n",
        "import seaborn as sns\n",
        "import matplotlib.pyplot as plt\n",
        "from sklearn.model_selection import train_test_split\n",
        "from sklearn.metrics import accuracy_score\n",
        "from sklearn.metrics import f1_score\n",
        "from sklearn.metrics import precision_score\n",
        "from sklearn.metrics import recall_score"
      ]
    },
    {
      "cell_type": "markdown",
      "id": "3b152c1e",
      "metadata": {
        "id": "3b152c1e"
      },
      "source": [
        "### Data Prepration (10 points) \n",
        "1.   Load Dataset\n",
        "2.   Separate target feaure\n",
        "3.   Change class labels to 1 and -1\n",
        "4.   Do train-test split"
      ]
    },
    {
      "cell_type": "code",
      "execution_count": 5,
      "id": "159d3986",
      "metadata": {
        "id": "159d3986"
      },
      "outputs": [],
      "source": [
        "#TODO\n",
        "#import the dataset\n",
        "heart_dt= pd.read_csv('/content/heart_disease.csv')\n",
        "#seperate\n",
        "X=heart_dt.drop(columns='target')\n",
        "y= heart_dt['target']\n",
        "#replace 0 with -1\n",
        "y.replace(to_replace = 0, value = -1, inplace=True)\n",
        "#I checked with the isna() method if we have any NaN and there were none, hence no reason to fillna\n",
        "#split to train and test\n",
        "X_train, X_test, y_train, y_test = train_test_split(X,y,test_size= 0.2,random_state=42)"
      ]
    },
    {
      "cell_type": "markdown",
      "id": "695a1fc7",
      "metadata": {
        "id": "695a1fc7"
      },
      "source": [
        "### Adaboost Algorithm Implementation (40 points)"
      ]
    },
    {
      "cell_type": "code",
      "execution_count": 57,
      "id": "95f76156",
      "metadata": {
        "id": "95f76156"
      },
      "outputs": [],
      "source": [
        "from sklearn.tree import DecisionTreeClassifier\n",
        "\n",
        "def calculate_error(y, y_pred, w):\n",
        "    #TODO : Calculate the weighted error of a weak classifier.//\n",
        "    error = sum(w*(np.not_equal(y, y_pred)).astype(int))/sum(w) \n",
        "    return error\n",
        "\n",
        "\n",
        "def calculate_alpha(error):\n",
        "    #TODO : Calculate the weight of a weak classifier.\n",
        "    alpha = 0.5 * np.log((1-error)/error)\n",
        "    return alpha\n",
        "\n",
        "\n",
        "def update_weights(w, alpha, y, y_pred):\n",
        "    #TODO : Update weights after a boosting iteration.\n",
        "    res = w * np.exp(alpha * (y != y_pred))\n",
        "    return res\n",
        "  \n",
        "    \n",
        "class AdaBoost:\n",
        "    \n",
        "    def __init__(self):\n",
        "        self.alphas = []\n",
        "        self.M = None\n",
        "        self.G_M = []\n",
        "        self.training_errors = []\n",
        "        self.prediction_errors = []\n",
        "\n",
        "    def fit(self, X, y, M):\n",
        "        \n",
        "        self.alphas = [] \n",
        "        self.training_errors = []\n",
        "        self.M = M\n",
        "        #self.y_preds = []\n",
        "\n",
        "        for m in range(0, M):\n",
        "            \n",
        "            # Set weights\n",
        "            if m == 0:\n",
        "                #TODO set initial weights to 1/n for all n samples\n",
        "                 n_samples = len(y)\n",
        "                 w= np.full(n_samples, (1/n_samples))\n",
        "                 # w_i = np.ones(len(y)) * 1 / len(y) \n",
        "            else:\n",
        "                #TODO\n",
        "             w=update_weights(w, alpha, y, y_pred)\n",
        "               \n",
        "                          \n",
        "          \n",
        "          \n",
        "            \n",
        "            # 1. Fit weak classifier and predict labels(using predict method) and Save it to list of weak classifiers.\n",
        "            #TODO\n",
        "            G_m = DecisionTreeClassifier(max_depth = 1)    \n",
        "            G_m.fit(X, y, sample_weight = w)\n",
        "            y_pred = G_m.predict(X)\n",
        "            self.G_M.append(G_m)\n",
        "            #self.y_preds.append(y_pred)\n",
        "\n",
        "            # 2. Calculate error of this weak classifier and save it to list of trainingterrors.\n",
        "            #TODO\n",
        "            error = calculate_error(y, y_pred, w)\n",
        "            self.training_errors.append(error)\n",
        "\n",
        "            # 3. Calculate alpha of this weak classifier and save it to list of alphas.\n",
        "            #TODO\n",
        "            alpha = calculate_alpha(error)\n",
        "            self.alphas.append(alpha)\n",
        "          \n",
        "          \n",
        "            #assert len(self.G_M) == len(self.alphas) \n",
        "\n",
        "\n",
        "\n",
        "    def predict(self, X):\n",
        "\n",
        "        weak_preds = pd.DataFrame(index = range(len(X)), columns = range(self.M)) \n",
        "\n",
        "        for m in range(self.M):\n",
        "            y_pred_m = self.G_M[m].predict(X) * self.alphas[m]\n",
        "            weak_preds.iloc[:,m] = y_pred_m\n",
        "\n",
        "        y_pred = (1 * np.sign(weak_preds.T.sum())).astype(int)\n",
        "\n",
        "        return y_pred\n",
        "\n",
        "\n",
        "\n",
        "        "
      ]
    },
    {
      "cell_type": "markdown",
      "id": "f27f8987",
      "metadata": {
        "id": "f27f8987"
      },
      "source": [
        "### Training and Evaluation (20 points)"
      ]
    },
    {
      "cell_type": "code",
      "execution_count": 58,
      "id": "2986c7a1",
      "metadata": {
        "id": "2986c7a1",
        "colab": {
          "base_uri": "https://localhost:8080/"
        },
        "outputId": "af7590e7-8336-4949-fa4a-a30cb9e88bc6"
      },
      "outputs": [
        {
          "output_type": "stream",
          "name": "stdout",
          "text": [
            " accuracy: 0.848780487804878 \n",
            " precision: 0.8157894736842105 \n",
            " recall: 0.9029126213592233 \n",
            " fscore: 0.8571428571428571\n"
          ]
        }
      ],
      "source": [
        "#TODO : Fit model\n",
        "clf = AdaBoost()\n",
        "clf.fit(X_train, y_train, M=500)\n",
        "\n",
        "#TODO : Predict on test data\n",
        "y_pred = clf.predict(X_test)\n",
        "#TODO : Print evaluation metrics (Accurcy, Precission, Recall and f-score)\n",
        "acc = accuracy_score(y_test, y_pred)\n",
        "precision = precision_score(y_test, y_pred)\n",
        "recall = recall_score(y_test, y_pred)\n",
        "fscore= f1_score(y_test, y_pred)\n",
        "print(\" accuracy:\", acc,\n",
        "      '\\n precision:', precision,\n",
        "      '\\n recall:', recall,\n",
        "      '\\n fscore:', fscore)"
      ]
    },
    {
      "cell_type": "code",
      "execution_count": 51,
      "id": "39bb9216",
      "metadata": {
        "id": "39bb9216",
        "colab": {
          "base_uri": "https://localhost:8080/"
        },
        "outputId": "b08d553c-1c64-4211-a121-f0f8a8b54cec"
      },
      "outputs": [
        {
          "output_type": "stream",
          "name": "stdout",
          "text": [
            " accuracy: 0.9463414634146341 \n",
            " precision: 0.9693877551020408 \n",
            " recall: 0.9223300970873787 \n",
            " fscore: 0.9452736318407962\n"
          ]
        }
      ],
      "source": [
        "#TODO : Do Scikit-Learn implementation of AdaBoost and print evaluation metrics\n",
        "from sklearn.ensemble import AdaBoostClassifier\n",
        "from sklearn.datasets import make_classification\n",
        "\n",
        "clf2 = AdaBoostClassifier(n_estimators=500, random_state=0)\n",
        "clf2.fit(X_train, y_train)\n",
        "\n",
        "y_pred2 = clf2.predict(X_test)\n",
        "\n",
        "acc = accuracy_score(y_test, y_pred2)\n",
        "precision = precision_score(y_test, y_pred2)\n",
        "recall = recall_score(y_test, y_pred2)\n",
        "fscore= f1_score(y_test, y_pred2)\n",
        "print(\" accuracy:\", acc ,\n",
        "      '\\n precision:', precision,\n",
        "      '\\n recall:', recall,\n",
        "      '\\n fscore:', fscore)"
      ]
    },
    {
      "cell_type": "markdown",
      "id": "e8fdcb6d",
      "metadata": {
        "id": "e8fdcb6d"
      },
      "source": [
        "### Early Stopping (15 points)"
      ]
    },
    {
      "cell_type": "code",
      "execution_count": null,
      "id": "ac86c294",
      "metadata": {
        "id": "ac86c294"
      },
      "outputs": [],
      "source": [
        "#TODO : Calculate validation error for different number of estimators "
      ]
    },
    {
      "cell_type": "code",
      "execution_count": null,
      "id": "d6e06fea",
      "metadata": {
        "id": "d6e06fea"
      },
      "outputs": [],
      "source": [
        "#TODO : Plot validation error versus number of estimators figure."
      ]
    },
    {
      "cell_type": "code",
      "execution_count": null,
      "id": "cdfac096",
      "metadata": {
        "id": "cdfac096"
      },
      "outputs": [],
      "source": [
        "#TODO : Print the best number for estimators and minimum value for validation error."
      ]
    },
    {
      "cell_type": "markdown",
      "id": "ec46a972",
      "metadata": {
        "id": "ec46a972"
      },
      "source": [
        "### Weighted Error (10 points)"
      ]
    },
    {
      "cell_type": "code",
      "execution_count": 60,
      "id": "7471664f",
      "metadata": {
        "id": "7471664f",
        "colab": {
          "base_uri": "https://localhost:8080/",
          "height": 448
        },
        "outputId": "301e0b74-9f22-4b17-df44-72083aa33407"
      },
      "outputs": [
        {
          "output_type": "display_data",
          "data": {
            "text/plain": [
              "<Figure size 1080x504 with 1 Axes>"
            ],
            "image/png": "[encoded data removed]"
          },
          "metadata": {}
        }
      ],
      "source": [
        "#TODO : Plot weighted training error versus number of estimators figure using training_errors attribute in Adaboost class.\n",
        "from sklearn.metrics import mean_squared_error\n",
        "\n",
        "result={}\n",
        "for m in range(100, 2000, 100):\n",
        "  clf2 = AdaBoost()\n",
        "  clf2.fit(X_train, y_train, m)\n",
        "  y_pred3 = clf2.predict(X_test)\n",
        "  result[m]=np.sum(np.asarray(clf2.training_errors) * np.asarray(clf2.alphas))\n",
        "\n",
        "\n",
        "plt.figure(figsize=(15, 7))\n",
        "sns.set(style='dark',)\n",
        "ax = sns.lineplot(x=list(result.keys()), y=list(result.values()))\n",
        "plt.xlabel(\"estimators' number\")\n",
        "plt.ylabel(\"weighted training error\")\n",
        "ax.set_xlim([1, max(list(result.keys()))])\n",
        "plt.show()"
      ]
    },
    {
      "cell_type": "markdown",
      "id": "22f513e8",
      "metadata": {
        "id": "22f513e8"
      },
      "source": [
        "### Question : Why does the weighted error tend to increase as the number of estimators increase? (5points)"
      ]
    },
    {
      "cell_type": "code",
      "execution_count": 19,
      "id": "ef5055b8",
      "metadata": {
        "id": "ef5055b8",
        "colab": {
          "base_uri": "https://localhost:8080/"
        },
        "outputId": "32f8e6f9-c428-45f0-fe31-cdf7033f547e"
      },
      "outputs": [
        {
          "output_type": "stream",
          "name": "stdout",
          "text": [
            "0\n",
            "1\n",
            "2\n",
            "3\n",
            "4\n",
            "5\n"
          ]
        }
      ],
      "source": [
        "print(\"due to overfitting, making the model overly complicated by increasing the number of estimators will result in more errors\")"
      ]
    }
  ],
  "metadata": {
    "kernelspec": {
      "display_name": "Python 3 (ipykernel)",
      "language": "python",
      "name": "python3"
    },
    "language_info": {
      "codemirror_mode": {
        "name": "ipython",
        "version": 3
      },
      "file_extension": ".py",
      "mimetype": "text/x-python",
      "name": "python",
      "nbconvert_exporter": "python",
      "pygments_lexer": "ipython3",
      "version": "3.9.7"
    },
    "colab": {
      "provenance": []
    }
  },
  "nbformat": 4,
  "nbformat_minor": 5
}