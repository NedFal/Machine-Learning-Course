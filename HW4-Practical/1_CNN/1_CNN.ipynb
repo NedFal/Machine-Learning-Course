{
  "cells": [
    {
      "cell_type": "markdown",
      "metadata": {
        "id": "QjigK_GVIocN"
      },
      "source": [
        "<img src='http://www-scf.usc.edu/~ghasemig/images/sharif.png' alt=\"SUT logo\" width=200 height=200 align=left class=\"saturate\" >\n",
        "\n",
        "<br>\n",
        "<font face=\"Times New Roman\">\n",
        "<div dir=ltr align=center>\n",
        "<font color=0F5298 size=7>\n",
        "    Introduction to Machine Learning <br>\n",
        "<font color=2565AE size=5>\n",
        "    Computer Engineering Department <br>\n",
        "    Fall 2022<br>\n",
        "<font color=3C99D size=5>\n",
        "    Homework 4: Practical - Convolutional Neural Networks <br>\n",
        "<font color=696880 size=4>\n",
        "    Arian Amani\n",
        "    \n",
        "    \n",
        "____\n"
      ]
    },
    {
      "cell_type": "markdown",
      "metadata": {
        "id": "QoLw3-pBIocS"
      },
      "source": [
        "### Full Name : Neda Fallah\n",
        "### Student Number : 98100226\n",
        "___"
      ]
    },
    {
      "cell_type": "markdown",
      "metadata": {
        "id": "qo2xxMhVIocU"
      },
      "source": [
        "# Problem\n",
        "This assignment uses PyTorch to build and implement a residual CNN for solving a classification problem. Our goal is to classify handwritten digits from 0 to 9 on the MNIST dataset. You can try larger and more fun datasets if you have access to Google Colab. (for example: [facial emotion detection](https://www.kaggle.com/datasets/msambare/fer2013))\n",
        "\n",
        "* It is highly recommended to run this notebook on Google Colab so that you can utilize its GPU.\n",
        "* If you need to change the inputs of functions you are implementing, or want to add new cells or functions, feel free to do so."
      ]
    },
    {
      "cell_type": "markdown",
      "metadata": {
        "id": "W0bGV8AXO3Yx"
      },
      "source": [
        "# Setup"
      ]
    },
    {
      "cell_type": "code",
      "execution_count": 2,
      "metadata": {
        "id": "CdrZr6HWO2p8"
      },
      "outputs": [],
      "source": [
        "import torch\n",
        "from torch import nn\n",
        "from torch.nn import functional as F\n",
        "from torch.utils.data import Dataset, DataLoader, random_split\n",
        "from torchvision import transforms, datasets\n",
        "\n",
        "from tqdm import tqdm\n",
        "import numpy as np\n",
        "import pandas as pd\n",
        "import matplotlib.pyplot as plt\n",
        "\n",
        "plt.style.use('ggplot')\n",
        "###########################################################\n",
        "##  If you need any other packages, import them below    ##\n",
        "###########################################################\n"
      ]
    },
    {
      "cell_type": "code",
      "execution_count": 3,
      "metadata": {
        "colab": {
          "base_uri": "https://localhost:8080/"
        },
        "id": "_A7POyEGIocX",
        "outputId": "e4b81aba-530d-41c8-a958-a884136dd78e"
      },
      "outputs": [
        {
          "output_type": "execute_result",
          "data": {
            "text/plain": [
              "device(type='cuda')"
            ]
          },
          "metadata": {},
          "execution_count": 3
        }
      ],
      "source": [
        "device = torch.device('cuda' if torch.cuda.is_available() else 'cpu')\n",
        "device"
      ]
    },
    {
      "cell_type": "markdown",
      "metadata": {
        "id": "gzydGC2SNuAu"
      },
      "source": [
        "# Prepare The Data (10 Points)"
      ]
    },
    {
      "cell_type": "markdown",
      "metadata": {
        "id": "3UU7RMDOIocY"
      },
      "source": [
        "Write a composed transformation to transform our dataset's PIL images to tensors and normalize them with ```mean: 0.1307``` and ```std: 0.3081```:\n",
        "\n",
        "> Indented block\n",
        "\n"
      ]
    },
    {
      "cell_type": "markdown",
      "metadata": {
        "id": "te9QnaO3IocY"
      },
      "source": [
        "<details>\n",
        "<summary>Hint</summary>\n",
        "<br>\n",
        "<a href=\"https://pytorch.org/vision/stable/generated/torchvision.transforms.Compose.html\">torchvision.transforms.Compose</a>\n",
        "</details>"
      ]
    },
    {
      "cell_type": "code",
      "execution_count": 4,
      "metadata": {
        "id": "npVlP2U-IocY"
      },
      "outputs": [],
      "source": [
        "###############################################################\n",
        "##                Compose your transformations               ##\n",
        "###############################################################\n",
        "transformation= transforms.Compose([\n",
        "    transforms.ToTensor(),\n",
        "    transforms.Normalize(mean=(0.1307,), std=(0.3081,))\n",
        "])"
      ]
    },
    {
      "cell_type": "markdown",
      "metadata": {
        "id": "ANdYnd04N0ze"
      },
      "source": [
        "Split the downloaded MNIST dataset into two dataloaders ```train``` & ```val```"
      ]
    },
    {
      "cell_type": "code",
      "execution_count": 5,
      "metadata": {
        "colab": {
          "base_uri": "https://localhost:8080/",
          "height": 440,
          "referenced_widgets": [
            "b6db43462d684941998c228fb1b1dd1b",
            "d78d546ea6b64fb5bdf6e1e7a3885e80",
            "74160236e22b4e4e9eec1f929ee4b7ad",
            "9d6653e12b1945858c42c5681605412f",
            "ba38f78a77da4cb28204c31718a7fd9c",
            "e801d61c5bdc4019af1b3a09f57a1cbf",
            "60fd811df29c4d27b34d7db0cbec17ba",
            "61c9c90840bf459686b23b14fec0e8ae",
            "0c93c9fdec31453893b25f4cceadf59c",
            "934c16e924854d4b9ce3ee74f037def0",
            "69945ea0ea4b4b9e8cd0698cc3903ebe",
            "63a45b8fe93d4e33b4a294248b47fb38",
            "73f3e8178b9e4c14b70de1a3b82bcb03",
            "94a829ddd516499396f7ec0d361ee2d7",
            "ab0b35b54fd042b3b2c99028870941f7",
            "3cb9d8b11b9647aa83b68fdcf00ee210",
            "2928461cb96647b0ba79c1ded1bfb744",
            "7cb4a515577841b6b73d774160ba8fe0",
            "2c01e2a01f2945e8b61c2a063281f17f",
            "99b4d1913bb4465da06d0a285cc7d849",
            "5fa63e38c468409a9613637fee901502",
            "584ad4966d294096aed3124cb7fcc4bd",
            "74460f3630714f929085d1f6a1bb7999",
            "b93b09c8b63d432b988da0285e6db23e",
            "184f9cb5928d45789472b529c9dfcbc1",
            "9c29706404e040b7b2a71656f0ba2123",
            "37929bead4034e7184b8a9af24847f11",
            "22992cc5cf784cdda2c73baa21561fd3",
            "c76954ee30dc483da9fdb18531974d0f",
            "36df10befd354ed5b6877bc8182ac55c",
            "c5f9576825304473835e408ff10aea4b",
            "ded71c8cbb9d405ea437991b9035cd01",
            "5b6c8df9186d49dbb4ac3c148cd6598c",
            "23a5e2eacdfc4d478b74a26e28e0f7d9",
            "440611a249924343b62bd599ddedee8c",
            "ba54f55f81bd427f9e5c76daca60b0b3",
            "d0b3052a60364ec9ac5c82d6aaa0c205",
            "64db65eab7f64239854ad59a806cd574",
            "0a6cbe63d97049ac81d1af82d91cd5ad",
            "e932ef4a0df240e68526c741f5a85dac",
            "38f1870d449845378c00ddd6ffe79195",
            "6e1c5a3ed36d4782b671d2ed278155c1",
            "96a65380d5a24393a649d0a3895a2e97",
            "3230b3ecc40545be9bec443418f89141"
          ]
        },
        "id": "pj9y7UMZIocZ",
        "outputId": "28fc70ca-9b3b-49a2-b564-2a8ff72b43c8"
      },
      "outputs": [
        {
          "output_type": "stream",
          "name": "stdout",
          "text": [
            "Downloading http://yann.lecun.com/exdb/mnist/train-images-idx3-ubyte.gz\n",
            "Downloading http://yann.lecun.com/exdb/mnist/train-images-idx3-ubyte.gz to data/MNIST/raw/train-images-idx3-ubyte.gz\n"
          ]
        },
        {
          "output_type": "display_data",
          "data": {
            "text/plain": [
              "  0%|          | 0/9912422 [00:00<?, ?it/s]"
            ],
            "application/vnd.jupyter.widget-view+json": {
              "version_major": 2,
              "version_minor": 0,
              "model_id": "b6db43462d684941998c228fb1b1dd1b"
            }
          },
          "metadata": {}
        },
        {
          "output_type": "stream",
          "name": "stdout",
          "text": [
            "Extracting data/MNIST/raw/train-images-idx3-ubyte.gz to data/MNIST/raw\n",
            "\n",
            "Downloading http://yann.lecun.com/exdb/mnist/train-labels-idx1-ubyte.gz\n",
            "Downloading http://yann.lecun.com/exdb/mnist/train-labels-idx1-ubyte.gz to data/MNIST/raw/train-labels-idx1-ubyte.gz\n"
          ]
        },
        {
          "output_type": "display_data",
          "data": {
            "text/plain": [
              "  0%|          | 0/28881 [00:00<?, ?it/s]"
            ],
            "application/vnd.jupyter.widget-view+json": {
              "version_major": 2,
              "version_minor": 0,
              "model_id": "63a45b8fe93d4e33b4a294248b47fb38"
            }
          },
          "metadata": {}
        },
        {
          "output_type": "stream",
          "name": "stdout",
          "text": [
            "Extracting data/MNIST/raw/train-labels-idx1-ubyte.gz to data/MNIST/raw\n",
            "\n",
            "Downloading http://yann.lecun.com/exdb/mnist/t10k-images-idx3-ubyte.gz\n",
            "Downloading http://yann.lecun.com/exdb/mnist/t10k-images-idx3-ubyte.gz to data/MNIST/raw/t10k-images-idx3-ubyte.gz\n"
          ]
        },
        {
          "output_type": "display_data",
          "data": {
            "text/plain": [
              "  0%|          | 0/1648877 [00:00<?, ?it/s]"
            ],
            "application/vnd.jupyter.widget-view+json": {
              "version_major": 2,
              "version_minor": 0,
              "model_id": "74460f3630714f929085d1f6a1bb7999"
            }
          },
          "metadata": {}
        },
        {
          "output_type": "stream",
          "name": "stdout",
          "text": [
            "Extracting data/MNIST/raw/t10k-images-idx3-ubyte.gz to data/MNIST/raw\n",
            "\n",
            "Downloading http://yann.lecun.com/exdb/mnist/t10k-labels-idx1-ubyte.gz\n",
            "Downloading http://yann.lecun.com/exdb/mnist/t10k-labels-idx1-ubyte.gz to data/MNIST/raw/t10k-labels-idx1-ubyte.gz\n"
          ]
        },
        {
          "output_type": "display_data",
          "data": {
            "text/plain": [
              "  0%|          | 0/4542 [00:00<?, ?it/s]"
            ],
            "application/vnd.jupyter.widget-view+json": {
              "version_major": 2,
              "version_minor": 0,
              "model_id": "23a5e2eacdfc4d478b74a26e28e0f7d9"
            }
          },
          "metadata": {}
        },
        {
          "output_type": "stream",
          "name": "stdout",
          "text": [
            "Extracting data/MNIST/raw/t10k-labels-idx1-ubyte.gz to data/MNIST/raw\n",
            "\n",
            "60000\n"
          ]
        }
      ],
      "source": [
        "# Download the MNIST dataset\n",
        "mnist_data = datasets.MNIST(root='data/', download=True, transform=transformation)\n",
        "\n",
        "# Number of images in the dataset: 60,000\n",
        "print(len(mnist_data))\n",
        "\n",
        "# Split the dataset into training and validation sets\n",
        "train_data, valid_data = random_split(mnist_data, [50000, 10000]) "
      ]
    },
    {
      "cell_type": "markdown",
      "metadata": {
        "id": "fJNN-C9RIocZ"
      },
      "source": [
        "Create dataloaders for your train and validation data with ```batch size 16``` and ```shuffle = True``` for train loader."
      ]
    },
    {
      "cell_type": "markdown",
      "metadata": {
        "id": "4oyyF4tcIoca"
      },
      "source": [
        "<details>\n",
        "<summary>Hint</summary>\n",
        "<br>\n",
        "<a href=\"https://pytorch.org/tutorials/beginner/basics/data_tutorial.html\">DATASETS & DATALOADERS</a>\n",
        "</details>"
      ]
    },
    {
      "cell_type": "code",
      "execution_count": 6,
      "metadata": {
        "id": "4CEUTGaFQI51"
      },
      "outputs": [],
      "source": [
        "###############################################################\n",
        "##           Load the datasets into train/valid              ##\n",
        "##                       dataloaders                         ##\n",
        "###############################################################\n",
        "train_loader = DataLoader(train_data, batch_size=16, shuffle=True)\n",
        "val_loader = DataLoader(valid_data, batch_size=16, shuffle=True)"
      ]
    },
    {
      "cell_type": "markdown",
      "metadata": {
        "id": "HF_40_3rQ5Uv"
      },
      "source": [
        "# Define Model (40 Points)"
      ]
    },
    {
      "cell_type": "markdown",
      "metadata": {
        "id": "8VOlI5-6Iocb"
      },
      "source": [
        "### You need to implement a model with the architecture below:\n",
        "[Input: (BS, 1, 28, 28)] -- > [Conv2D (BS, 16, 28, 28)] --> ReLU --> [MaxPool2D (BS, 16, 14, 14): Residual1]\n",
        "\n",
        "--> [Conv2D (BS, 16, 14, 14)] --> ReLU --> [Conv2D (BS, 16, 14, 14)] --> ReLU --> [Addition with Residual1]\n",
        "\n",
        "--> [MaxPool2D (BS, 16, 7, 7)] --> [Conv2D (BS, 64, 7, 7)] --> [ReLU: Residual2]\n",
        "\n",
        "--> [Conv2D (BS, 64, 7, 7)] --> ReLU --> [Conv2D (BS, 64, 7, 7)] --> ReLU --> [Addition with Residual2]\n",
        "\n",
        "--> [GlobalAveragePooling (BS, 64, 1, 1)] --> [Flatten (BS, 64)] --> [Linear (BS, 10)] --> OUT\n",
        "\n",
        "Here you can see the drawn schematic of the architecture, too: [Link](https://drive.google.com/file/d/1acQve-TOYd6wYtogpHCblhoDZt9jWQdf/view?usp=share_link)"
      ]
    },
    {
      "cell_type": "markdown",
      "metadata": {
        "id": "D-XO47aAIocc"
      },
      "source": [
        "<details>\n",
        "<summary>Hint</summary>\n",
        "<br>\n",
        "These might be helpful:\n",
        "<br>\n",
        "<a href=\"https://pytorch.org/docs/stable/generated/torch.clone.html\">TORCH.CLONE</a>\n",
        "<br><br>\n",
        "<a href=\"https://pytorch.org/docs/master/generated/torch.nn.AdaptiveAvgPool2d.html#torch.nn.AdaptiveAvgPool2d\">AdaptiveAvgPool2d</a> with output size (1, 1) for global average pooling\n",
        "<br><br>\n",
        "<a href=\"https://arxiv.org/pdf/1512.03385.pdf\">Deep Residual Learning for Image Recognition</a>\n",
        "</details>"
      ]
    },
    {
      "cell_type": "code",
      "execution_count": 8,
      "metadata": {
        "id": "jQfGVj2rQ90G",
        "colab": {
          "base_uri": "https://localhost:8080/",
          "height": 157
        },
        "outputId": "ffaf934c-6eb7-426c-eb94-a81052f6080d"
      },
      "outputs": [
        {
          "output_type": "execute_result",
          "data": {
            "text/plain": [
              "'\\nclass ResidualClassifier(nn.Module):\\n    def __init__(self):\\n        super(ResidualClassifier, self).__init__()\\n        \\n        # First Conv2D layer\\n        self.conv1 = nn.Conv2d(in_channels=1, out_channels=16, kernel_size=3, padding=1)\\n        \\n        # Second Conv2D layer with ReLU activation\\n        self.conv2 = nn.Conv2d(in_channels=16, out_channels=16, kernel_size=3, padding=1)\\n        self.relu2 = nn.ReLU()\\n        \\n        # Third Conv2D layer with ReLU activation\\n        self.conv3 = nn.Conv2d(in_channels=16, out_channels=16, kernel_size=3, padding=1)\\n        self.relu3 = nn.ReLU()\\n        \\n        # First MaxPool layer\\n        self.pool1 = nn.MaxPool2d(kernel_size=2, stride=2)\\n        \\n        # Fourth Conv2D layer\\n        self.conv4 = nn.Conv2d(in_channels=16, out_channels=64, kernel_size=3, padding=1)\\n        \\n        # Fifth Conv2D layer with ReLU activation\\n        self.conv5 = nn.Conv2d(in_channels=64, out_channels=64, kernel_size=3, padding=1)\\n        self.relu5 = nn.ReLU()\\n        \\n        # Sixth Conv2D layer with ReLU activation\\n        self.conv6 = nn.Conv2d(in_channels=64, out_channels=64, kernel_size=3, padding=1)\\n        self.relu6 = nn.ReLU()\\n        \\n        # Second MaxPool layer\\n        self.pool2 = nn.MaxPool2d(kernel_size=2, stride=2)\\n        \\n        # GlobalAveragePooling layer\\n        self.gap = nn.AdaptiveAvgPool2d((1, 1))\\n        \\n        # Linear layer\\n        self.fc = nn.Linear(64, 10)\\n    \\n    def forward(self, x):\\n        residual1 = x\\n        \\n        # First Conv2D layer\\n        x = self.conv1(x)\\n        \\n        # Second and Third Conv2D layers with ReLU activation\\n        x = self.conv2(x)\\n        x = self.relu2(x)\\n        x = self.conv3(x)\\n        x = self.relu3(x)\\n        \\n        # Addition with residual1\\n        x += residual1\\n        \\n        # First MaxPool layer\\n        x = self.pool1(x)\\n        \\n        residual2 = x\\n        \\n        # Fourth Conv2D layer\\n        x = self.conv4(x)\\n        \\n        # Fifth and Sixth Conv2D layers with ReLU activation\\n        x = self.conv5(x)\\n        x = self.relu5(x)\\n        x = self.conv6(x)\\n        x = self.relu6(x)\\n                # Addition with residual2\\n        x += residual2\\n    \\n    # Second MaxPool layer\\n        x = self.pool2(x)\\n    \\n    # GlobalAveragePooling layer\\n        x = self.gap(x)\\n    \\n    # Flatten layer\\n        x = x.view(x.size(0), -1)\\n    \\n    # Linear layer\\n        x = self.fc(x)\\n    \\n        return x\\n\\n\\n\\nclass ResidualBlock(nn.Module):\\n    def __init__(self, in_channels, out_channels, stride=1):\\n        super(ResidualBlock, self).__init__()\\n        self.conv1 = nn.Conv2d(in_channels, out_channels, kernel_size=3, stride=stride, padding=1)\\n        self.bn1 = nn.BatchNorm2d(out_channels)\\n        self.relu = nn.ReLU()\\n        self.conv2 = nn.Conv2d(out_channels, out_channels, kernel_size=3, stride=1, padding=1)\\n        self.bn2 = nn.BatchNorm2d(out_channels)\\n        \\n    def forward(self, x):\\n        residual = x\\n        x = self.conv1(x)\\n        x = self.bn1(x)\\n        x = self.relu(x)\\n        x = self.conv2(x)\\n        x = self.bn2(x)\\n        residual = F.conv2d(residual, weight=torch.zeros_like(x), stride=self.conv1.stride, bias=None)\\n        x += residual\\n        x = self.relu(x)\\n\\n        return x\\n\\nclass ResidualClassifier(nn.Module):\\n    def __init__(self, num_classes=10):\\n        super(ResidualClassifier, self).__init__()\\n        self.conv1 = nn.Conv2d(1, 16, kernel_size=3, stride=1, padding=1)\\n        self.bn1 = nn.BatchNorm2d(16)\\n        self.relu = nn.ReLU()\\n        self.layer1 = self._make_layer(16, 16, stride=1)\\n        self.layer2 = self._make_layer(16, 64, stride=2)\\n        self.fc = nn.Linear(64, num_classes)\\n        \\n    def _make_layer(self, in_channels, out_channels, stride=1):\\n        layer = nn.Sequential(\\n            nn.MaxPool2d(kernel_size=2, stride=stride),\\n            ResidualBlock(in_channels, out_channels, stride=1),\\n            ResidualBlock(out_channels, out_channels, stride=1),\\n        )\\n        return layer\\n    \\n    def forward(self, x):\\n        x = self.conv1(x)\\n        x = self.bn1(x)\\n        x = self.relu(x)\\n        x = self.layer1(x)\\n        x = self.layer2(x)\\n        x = F.avg_pool2d(x, kernel_size=7)\\n        x = x.view(x.size(0), -1)\\n        x = self.fc(x)\\n        return x\\n'"
            ],
            "application/vnd.google.colaboratory.intrinsic+json": {
              "type": "string"
            }
          },
          "metadata": {},
          "execution_count": 8
        }
      ],
      "source": [
        "#####################################\n",
        "##        Define your model        ##\n",
        "##            Your Code            ##\n",
        "#####################################\n",
        "import torch\n",
        "import torch.nn as nn\n",
        "import torch.nn.functional as F\n",
        "\n",
        "\n",
        "class ResidualClassifier(nn.Module):\n",
        "    def __init__(self):\n",
        "        super(ResidualClassifier, self).__init__()\n",
        "        self.conv1 = nn.Conv2d(in_channels=1, out_channels=16, kernel_size = 3, stride=1, padding = 1)\n",
        "        self.relu1 = nn.ReLU()\n",
        "        self.pool1 = nn.MaxPool2d(kernel_size=2, stride=2)\n",
        "        self.conv2 = nn.Conv2d(16, 16, 3, 1, 1)\n",
        "        self.relu2 = nn.ReLU()\n",
        "        self.conv3 = nn.Conv2d(16, 16, 3, 1, 1)\n",
        "        self.relu3 = nn.ReLU()\n",
        "        self.pool2 = nn.MaxPool2d(kernel_size=2, stride=2)\n",
        "        self.conv4 = nn.Conv2d(16, 64, 3, 1, 1)\n",
        "        self.relu4 = nn.ReLU()\n",
        "        self.conv5 = nn.Conv2d(64, 64, 3, 1, 1)\n",
        "        self.relu5 = nn.ReLU()\n",
        "        self.conv6 = nn.Conv2d(64, 64, 3, 1, 1)\n",
        "        self.relu6 = nn.ReLU()\n",
        "        self.pool3 = nn.AdaptiveAvgPool2d((1,1))\n",
        "        self.flatten = nn.Flatten()\n",
        "        self.fc = nn.Linear(64, 10)\n",
        "        \n",
        "    def forward(self, x):\n",
        "        seq1_out = self.conv1(x)\n",
        "        seq1_out = self.relu1(seq1_out)\n",
        "        seq1_out = self.pool1(seq1_out)\n",
        "        \n",
        "        seq2_out = self.conv2(seq1_out)\n",
        "        seq2_out = self.relu2(seq2_out)\n",
        "        seq2_out = self.conv3(seq2_out)\n",
        "        seq2_out = self.relu3(seq2_out)\n",
        "        seq2_out = seq2_out + seq1_out\n",
        "        \n",
        "        seq3_out = self.pool2(seq2_out)\n",
        "        seq3_out = self.conv4(seq3_out)\n",
        "        seq3_out = self.relu4(seq3_out)\n",
        "        \n",
        "        seq4_out = self.conv5(seq3_out)\n",
        "        seq4_out = self.relu5(seq4_out)\n",
        "        seq4_out = self.conv6(seq4_out)\n",
        "        seq4_out = self.relu6(seq4_out)\n",
        "        seq4_out = seq4_out + seq3_out\n",
        "        \n",
        "        seq_out = self.pool3(seq4_out)\n",
        "        seq_out = self.flatten(seq_out)\n",
        "        seq_out = self.fc(seq_out)\n",
        "        return seq_out\n"
      ]
    },
    {
      "cell_type": "markdown",
      "metadata": {
        "id": "1jZeKXV9Rbq3"
      },
      "source": [
        "# Train Model (30 Points)"
      ]
    },
    {
      "cell_type": "code",
      "execution_count": 9,
      "metadata": {
        "id": "koMk0TkKRazn"
      },
      "outputs": [],
      "source": [
        "######################################################################\n",
        "##        Instantiate model, define hyper parameters, optimizer,    ##\n",
        "##        loss function and etc                                     ##\n",
        "######################################################################\n",
        "#hyperparameters\n",
        "num_classes = 10\n",
        "learning_rate = 0.01\n",
        "total_step = len(train_loader)\n",
        "num_epochs = 20\n",
        "total_step = len(train_loader)\n",
        "\n",
        "\n",
        "#instantiate\n",
        "model = ResidualClassifier().to(device)\n",
        "\n",
        "#loss and optimizer\n",
        "criterion = nn.CrossEntropyLoss()\n",
        "optimizer = torch.optim.SGD(model.parameters(), lr=learning_rate, weight_decay = 0.001, momentum = 0.9)"
      ]
    },
    {
      "cell_type": "code",
      "execution_count": 11,
      "metadata": {
        "colab": {
          "base_uri": "https://localhost:8080/"
        },
        "id": "AcsjT1ShIocd",
        "outputId": "f4468187-1f0c-4458-b66a-8db3587dce82"
      },
      "outputs": [
        {
          "output_type": "stream",
          "name": "stdout",
          "text": [
            "Epoch [1/20], Loss: 0.4387\n",
            "Accuracy of the network on the 5000 validation images: 96.17 %\n",
            "Epoch [2/20], Loss: 0.1051\n",
            "Accuracy of the network on the 5000 validation images: 96.55 %\n",
            "Epoch [3/20], Loss: 0.0768\n",
            "Accuracy of the network on the 5000 validation images: 97.68 %\n",
            "Epoch [4/20], Loss: 0.0674\n",
            "Accuracy of the network on the 5000 validation images: 98.24 %\n",
            "Epoch [5/20], Loss: 0.0611\n",
            "Accuracy of the network on the 5000 validation images: 96.91 %\n",
            "Epoch [6/20], Loss: 0.0572\n",
            "Accuracy of the network on the 5000 validation images: 98.20 %\n",
            "Epoch [7/20], Loss: 0.0542\n",
            "Accuracy of the network on the 5000 validation images: 98.18 %\n",
            "Epoch [8/20], Loss: 0.0530\n",
            "Accuracy of the network on the 5000 validation images: 98.12 %\n",
            "Epoch [9/20], Loss: 0.0510\n",
            "Accuracy of the network on the 5000 validation images: 97.90 %\n",
            "Epoch [10/20], Loss: 0.0478\n",
            "Accuracy of the network on the 5000 validation images: 97.33 %\n",
            "Epoch [11/20], Loss: 0.0502\n",
            "Accuracy of the network on the 5000 validation images: 98.21 %\n",
            "Epoch [12/20], Loss: 0.0445\n",
            "Accuracy of the network on the 5000 validation images: 98.41 %\n",
            "Epoch [13/20], Loss: 0.0459\n",
            "Accuracy of the network on the 5000 validation images: 98.62 %\n",
            "Epoch [14/20], Loss: 0.0478\n",
            "Accuracy of the network on the 5000 validation images: 98.41 %\n",
            "Epoch [15/20], Loss: 0.0441\n",
            "Accuracy of the network on the 5000 validation images: 97.64 %\n",
            "Epoch [16/20], Loss: 0.0438\n",
            "Accuracy of the network on the 5000 validation images: 97.87 %\n",
            "Epoch [17/20], Loss: 0.0422\n",
            "Accuracy of the network on the 5000 validation images: 97.53 %\n",
            "Epoch [18/20], Loss: 0.0416\n",
            "Accuracy of the network on the 5000 validation images: 97.59 %\n",
            "Epoch [19/20], Loss: 0.0434\n",
            "Accuracy of the network on the 5000 validation images: 98.24 %\n",
            "Epoch [20/20], Loss: 0.0419\n",
            "Accuracy of the network on the 5000 validation images: 98.64 %\n"
          ]
        }
      ],
      "source": [
        "#import gc\n",
        "\n",
        "######################################################################\n",
        "##        Train your model (Complete the code below)                ##\n",
        "######################################################################\n",
        "total_step = len(train_loader)\n",
        "num_epochs = 20\n",
        "loss_values = []\n",
        "val_accuracies = []  \n",
        "for epoch in range(num_epochs):\n",
        "    running_loss = 0.0\n",
        "    for images, labels in train_loader:  \n",
        "        images, labels = images.to(device), labels.to(device)\n",
        "        outputs = model(images)\n",
        "        loss = criterion(outputs, labels)\n",
        "        optimizer.zero_grad()\n",
        "        loss.backward()\n",
        "        optimizer.step()\n",
        "        running_loss += loss.item()\n",
        "\n",
        "    avg_loss = running_loss / len(train_loader)\n",
        "    loss_values.append(avg_loss)\n",
        "\n",
        "    print ('Epoch [{}/{}], Loss: {:.4f}'.format(epoch+1, num_epochs, avg_loss))\n",
        "    \n",
        "    correct = 0\n",
        "    total = 0  \n",
        "    with torch.no_grad():\n",
        "        for images, labels in val_loader:\n",
        "            images, labels = images.to(device), labels.to(device)\n",
        "            outputs = model(images)\n",
        "            _, predicted = torch.max(outputs.data, 1)\n",
        "            total += labels.size(0)\n",
        "            correct += (predicted == labels).sum().item()\n",
        "            \n",
        "        val_acc = 100 * correct / total\n",
        "        print('Accuracy of the network on the {} validation images: {:.2f} %'.format(5000, val_acc)) \n",
        "        val_accuracies.append(val_acc)\n",
        "\n",
        "\n"
      ]
    },
    {
      "cell_type": "code",
      "execution_count": 13,
      "metadata": {
        "id": "_YSWvcEGSVor",
        "colab": {
          "base_uri": "https://localhost:8080/",
          "height": 282
        },
        "outputId": "863ba067-adda-4c68-ef8b-969980de219d"
      },
      "outputs": [
        {
          "output_type": "execute_result",
          "data": {
            "text/plain": [
              "[<matplotlib.lines.Line2D at 0x7faf809b13d0>]"
            ]
          },
          "metadata": {},
          "execution_count": 13
        },
        {
          "output_type": "display_data",
          "data": {
            "text/plain": [
              "<Figure size 432x288 with 1 Axes>"
            ],
            "image/png": "[encoded data removed]"
          },
          "metadata": {}
        }
      ],
      "source": [
        "##############################################################\n",
        "##          Plot metrics graph for different epochs         ##\n",
        "##                        Your Code                         ##\n",
        "##############################################################\n",
        "\n",
        "\n",
        "# Plot loss\n",
        "plt.plot(loss_values)\n",
        "\n",
        "# Plot accuracy\n",
        "plt.plot(val_accuracies)\n",
        "\n"
      ]
    },
    {
      "cell_type": "markdown",
      "metadata": {
        "id": "LzhCrIFkSE1D"
      },
      "source": [
        "# Test Model (20 Points)"
      ]
    },
    {
      "cell_type": "code",
      "execution_count": 59,
      "metadata": {
        "id": "ihixveNISFwE",
        "colab": {
          "base_uri": "https://localhost:8080/"
        },
        "outputId": "aa1594d8-27ca-4d7c-8a44-5ac1bc1c9414"
      },
      "outputs": [
        {
          "output_type": "stream",
          "name": "stdout",
          "text": [
            "10000\n"
          ]
        },
        {
          "output_type": "stream",
          "name": "stderr",
          "text": [
            "<ipython-input-59-e42c1b72769f>:28: UserWarning: To copy construct from a tensor, it is recommended to use sourceTensor.clone().detach() or sourceTensor.clone().detach().requires_grad_(True), rather than torch.tensor(sourceTensor).\n",
            "  running_accuracy += torch.sum(torch.tensor(predicted == labels, dtype=torch.float)).item()\n"
          ]
        },
        {
          "output_type": "stream",
          "name": "stdout",
          "text": [
            "Accuracy of the model based on the test set is:\n",
            "98.99\n"
          ]
        }
      ],
      "source": [
        "##################################################\n",
        "##          Test your model on test-set         ##\n",
        "##          and plot confusion matrix           ##\n",
        "##################################################\n",
        "\n",
        "test_data = datasets.MNIST(root='data/', download=True, transform=transformation, train=False)\n",
        "test_loader = DataLoader(test_data, batch_size=64, shuffle=False)\n",
        "print(len(test_data))\n",
        "y_true = []\n",
        "y_pred = []\n",
        "\n",
        "running_accuracy = 0 \n",
        "total = 0 \n",
        " \n",
        "\n",
        "\n",
        " \n",
        "with torch.no_grad(): \n",
        "#loss_values = []\n",
        "#val_accuracies = []  \n",
        "#running_loss = 0.0\n",
        " for images, labels in test_loader:  \n",
        "        images, labels = images.to(device), labels.to(device)\n",
        "        outputs = model(images)\n",
        "        labels = labels.type_as(outputs)\n",
        "        total += outputs.size(0)  \n",
        "        _, predicted = torch.max(outputs.data, 1)\n",
        "        running_accuracy += torch.sum(torch.tensor(predicted == labels, dtype=torch.float)).item()\n",
        "        y_true.extend(labels.cpu().numpy())\n",
        "        y_pred.extend(predicted.cpu().numpy())\n",
        "\n",
        "      \n",
        "\n",
        " print('Accuracy of the model based on the test set is:')\n",
        " print(100 * running_accuracy / total)           \n",
        "\n"
      ]
    },
    {
      "cell_type": "code",
      "source": [
        "#cf\n",
        "from sklearn.metrics import confusion_matrix, ConfusionMatrixDisplay\n",
        "cm = confusion_matrix(y_true, y_pred)\n",
        "ConfusionMatrixDisplay(cm).plot()"
      ],
      "metadata": {
        "id": "CRAjnARXaUVc",
        "colab": {
          "base_uri": "https://localhost:8080/",
          "height": 299
        },
        "outputId": "6119ac41-e616-4d78-9819-10ffb1e4e364"
      },
      "execution_count": 60,
      "outputs": [
        {
          "output_type": "execute_result",
          "data": {
            "text/plain": [
              "<sklearn.metrics._plot.confusion_matrix.ConfusionMatrixDisplay at 0x7faf300b96a0>"
            ]
          },
          "metadata": {},
          "execution_count": 60
        },
        {
          "output_type": "display_data",
          "data": {
            "text/plain": [
              "<Figure size 432x288 with 2 Axes>"
            ],
            "image/png": "[encoded data removed]"
          },
          "metadata": {}
        }
      ]
    }
  ],
  "metadata": {
    "colab": {
      "provenance": []
    },
    "kernelspec": {
      "display_name": "Python 3 (ipykernel)",
      "language": "python",
      "name": "python3"
    },
    "language_info": {
      "codemirror_mode": {
        "name": "ipython",
        "version": 3
      },
      "file_extension": ".py",
      "mimetype": "text/x-python",
      "name": "python",
      "nbconvert_exporter": "python",
      "pygments_lexer": "ipython3",
      "version": "3.8.5"
    },
    "varInspector": {
      "cols": {
        "lenName": 16,
        "lenType": 16,
        "lenVar": 40
      },
      "kernels_config": {
        "python": {
          "delete_cmd_postfix": "",
          "delete_cmd_prefix": "del ",
          "library": "var_list.py",
          "varRefreshCmd": "print(var_dic_list())"
        },
        "r": {
          "delete_cmd_postfix": ") ",
          "delete_cmd_prefix": "rm(",
          "library": "var_list.r",
          "varRefreshCmd": "cat(var_dic_list()) "
        }
      },
      "types_to_exclude": [
        "module",
        "function",
        "builtin_function_or_method",
        "instance",
        "_Feature"
      ],
      "window_display": false
    },
    "vscode": {
      "interpreter": {
        "hash": "bb93c294e1388593f3ce88f4c5e050b65c17fc54b955fa171f33a4b9b3d10054"
      }
    },
    "widgets": {
      "application/vnd.jupyter.widget-state+json": {
        "b6db43462d684941998c228fb1b1dd1b": {
          "model_module": "@jupyter-widgets/controls",
          "model_name": "HBoxModel",
          "model_module_version": "1.5.0",
          "state": {
            "_dom_classes": [],
            "_model_module": "@jupyter-widgets/controls",
            "_model_module_version": "1.5.0",
            "_model_name": "HBoxModel",
            "_view_count": null,
            "_view_module": "@jupyter-widgets/controls",
            "_view_module_version": "1.5.0",
            "_view_name": "HBoxView",
            "box_style": "",
            "children": [
              "IPY_MODEL_d78d546ea6b64fb5bdf6e1e7a3885e80",
              "IPY_MODEL_74160236e22b4e4e9eec1f929ee4b7ad",
              "IPY_MODEL_9d6653e12b1945858c42c5681605412f"
            ],
            "layout": "IPY_MODEL_ba38f78a77da4cb28204c31718a7fd9c"
          }
        },
        "d78d546ea6b64fb5bdf6e1e7a3885e80": {
          "model_module": "@jupyter-widgets/controls",
          "model_name": "HTMLModel",
          "model_module_version": "1.5.0",
          "state": {
            "_dom_classes": [],
            "_model_module": "@jupyter-widgets/controls",
            "_model_module_version": "1.5.0",
            "_model_name": "HTMLModel",
            "_view_count": null,
            "_view_module": "@jupyter-widgets/controls",
            "_view_module_version": "1.5.0",
            "_view_name": "HTMLView",
            "description": "",
            "description_tooltip": null,
            "layout": "IPY_MODEL_e801d61c5bdc4019af1b3a09f57a1cbf",
            "placeholder": "​",
            "style": "IPY_MODEL_60fd811df29c4d27b34d7db0cbec17ba",
            "value": "100%"
          }
        },
        "74160236e22b4e4e9eec1f929ee4b7ad": {
          "model_module": "@jupyter-widgets/controls",
          "model_name": "FloatProgressModel",
          "model_module_version": "1.5.0",
          "state": {
            "_dom_classes": [],
            "_model_module": "@jupyter-widgets/controls",
            "_model_module_version": "1.5.0",
            "_model_name": "FloatProgressModel",
            "_view_count": null,
            "_view_module": "@jupyter-widgets/controls",
            "_view_module_version": "1.5.0",
            "_view_name": "ProgressView",
            "bar_style": "success",
            "description": "",
            "description_tooltip": null,
            "layout": "IPY_MODEL_61c9c90840bf459686b23b14fec0e8ae",
            "max": 9912422,
            "min": 0,
            "orientation": "horizontal",
            "style": "IPY_MODEL_0c93c9fdec31453893b25f4cceadf59c",
            "value": 9912422
          }
        },
        "9d6653e12b1945858c42c5681605412f": {
          "model_module": "@jupyter-widgets/controls",
          "model_name": "HTMLModel",
          "model_module_version": "1.5.0",
          "state": {
            "_dom_classes": [],
            "_model_module": "@jupyter-widgets/controls",
            "_model_module_version": "1.5.0",
            "_model_name": "HTMLModel",
            "_view_count": null,
            "_view_module": "@jupyter-widgets/controls",
            "_view_module_version": "1.5.0",
            "_view_name": "HTMLView",
            "description": "",
            "description_tooltip": null,
            "layout": "IPY_MODEL_934c16e924854d4b9ce3ee74f037def0",
            "placeholder": "​",
            "style": "IPY_MODEL_69945ea0ea4b4b9e8cd0698cc3903ebe",
            "value": " 9912422/9912422 [00:00&lt;00:00, 7476539.68it/s]"
          }
        },
        "ba38f78a77da4cb28204c31718a7fd9c": {
          "model_module": "@jupyter-widgets/base",
          "model_name": "LayoutModel",
          "model_module_version": "1.2.0",
          "state": {
            "_model_module": "@jupyter-widgets/base",
            "_model_module_version": "1.2.0",
            "_model_name": "LayoutModel",
            "_view_count": null,
            "_view_module": "@jupyter-widgets/base",
            "_view_module_version": "1.2.0",
            "_view_name": "LayoutView",
            "align_content": null,
            "align_items": null,
            "align_self": null,
            "border": null,
            "bottom": null,
            "display": null,
            "flex": null,
            "flex_flow": null,
            "grid_area": null,
            "grid_auto_columns": null,
            "grid_auto_flow": null,
            "grid_auto_rows": null,
            "grid_column": null,
            "grid_gap": null,
            "grid_row": null,
            "grid_template_areas": null,
            "grid_template_columns": null,
            "grid_template_rows": null,
            "height": null,
            "justify_content": null,
            "justify_items": null,
            "left": null,
            "margin": null,
            "max_height": null,
            "max_width": null,
            "min_height": null,
            "min_width": null,
            "object_fit": null,
            "object_position": null,
            "order": null,
            "overflow": null,
            "overflow_x": null,
            "overflow_y": null,
            "padding": null,
            "right": null,
            "top": null,
            "visibility": null,
            "width": null
          }
        },
        "e801d61c5bdc4019af1b3a09f57a1cbf": {
          "model_module": "@jupyter-widgets/base",
          "model_name": "LayoutModel",
          "model_module_version": "1.2.0",
          "state": {
            "_model_module": "@jupyter-widgets/base",
            "_model_module_version": "1.2.0",
            "_model_name": "LayoutModel",
            "_view_count": null,
            "_view_module": "@jupyter-widgets/base",
            "_view_module_version": "1.2.0",
            "_view_name": "LayoutView",
            "align_content": null,
            "align_items": null,
            "align_self": null,
            "border": null,
            "bottom": null,
            "display": null,
            "flex": null,
            "flex_flow": null,
            "grid_area": null,
            "grid_auto_columns": null,
            "grid_auto_flow": null,
            "grid_auto_rows": null,
            "grid_column": null,
            "grid_gap": null,
            "grid_row": null,
            "grid_template_areas": null,
            "grid_template_columns": null,
            "grid_template_rows": null,
            "height": null,
            "justify_content": null,
            "justify_items": null,
            "left": null,
            "margin": null,
            "max_height": null,
            "max_width": null,
            "min_height": null,
            "min_width": null,
            "object_fit": null,
            "object_position": null,
            "order": null,
            "overflow": null,
            "overflow_x": null,
            "overflow_y": null,
            "padding": null,
            "right": null,
            "top": null,
            "visibility": null,
            "width": null
          }
        },
        "60fd811df29c4d27b34d7db0cbec17ba": {
          "model_module": "@jupyter-widgets/controls",
          "model_name": "DescriptionStyleModel",
          "model_module_version": "1.5.0",
          "state": {
            "_model_module": "@jupyter-widgets/controls",
            "_model_module_version": "1.5.0",
            "_model_name": "DescriptionStyleModel",
            "_view_count": null,
            "_view_module": "@jupyter-widgets/base",
            "_view_module_version": "1.2.0",
            "_view_name": "StyleView",
            "description_width": ""
          }
        },
        "61c9c90840bf459686b23b14fec0e8ae": {
          "model_module": "@jupyter-widgets/base",
          "model_name": "LayoutModel",
          "model_module_version": "1.2.0",
          "state": {
            "_model_module": "@jupyter-widgets/base",
            "_model_module_version": "1.2.0",
            "_model_name": "LayoutModel",
            "_view_count": null,
            "_view_module": "@jupyter-widgets/base",
            "_view_module_version": "1.2.0",
            "_view_name": "LayoutView",
            "align_content": null,
            "align_items": null,
            "align_self": null,
            "border": null,
            "bottom": null,
            "display": null,
            "flex": null,
            "flex_flow": null,
            "grid_area": null,
            "grid_auto_columns": null,
            "grid_auto_flow": null,
            "grid_auto_rows": null,
            "grid_column": null,
            "grid_gap": null,
            "grid_row": null,
            "grid_template_areas": null,
            "grid_template_columns": null,
            "grid_template_rows": null,
            "height": null,
            "justify_content": null,
            "justify_items": null,
            "left": null,
            "margin": null,
            "max_height": null,
            "max_width": null,
            "min_height": null,
            "min_width": null,
            "object_fit": null,
            "object_position": null,
            "order": null,
            "overflow": null,
            "overflow_x": null,
            "overflow_y": null,
            "padding": null,
            "right": null,
            "top": null,
            "visibility": null,
            "width": null
          }
        },
        "0c93c9fdec31453893b25f4cceadf59c": {
          "model_module": "@jupyter-widgets/controls",
          "model_name": "ProgressStyleModel",
          "model_module_version": "1.5.0",
          "state": {
            "_model_module": "@jupyter-widgets/controls",
            "_model_module_version": "1.5.0",
            "_model_name": "ProgressStyleModel",
            "_view_count": null,
            "_view_module": "@jupyter-widgets/base",
            "_view_module_version": "1.2.0",
            "_view_name": "StyleView",
            "bar_color": null,
            "description_width": ""
          }
        },
        "934c16e924854d4b9ce3ee74f037def0": {
          "model_module": "@jupyter-widgets/base",
          "model_name": "LayoutModel",
          "model_module_version": "1.2.0",
          "state": {
            "_model_module": "@jupyter-widgets/base",
            "_model_module_version": "1.2.0",
            "_model_name": "LayoutModel",
            "_view_count": null,
            "_view_module": "@jupyter-widgets/base",
            "_view_module_version": "1.2.0",
            "_view_name": "LayoutView",
            "align_content": null,
            "align_items": null,
            "align_self": null,
            "border": null,
            "bottom": null,
            "display": null,
            "flex": null,
            "flex_flow": null,
            "grid_area": null,
            "grid_auto_columns": null,
            "grid_auto_flow": null,
            "grid_auto_rows": null,
            "grid_column": null,
            "grid_gap": null,
            "grid_row": null,
            "grid_template_areas": null,
            "grid_template_columns": null,
            "grid_template_rows": null,
            "height": null,
            "justify_content": null,
            "justify_items": null,
            "left": null,
            "margin": null,
            "max_height": null,
            "max_width": null,
            "min_height": null,
            "min_width": null,
            "object_fit": null,
            "object_position": null,
            "order": null,
            "overflow": null,
            "overflow_x": null,
            "overflow_y": null,
            "padding": null,
            "right": null,
            "top": null,
            "visibility": null,
            "width": null
          }
        },
        "69945ea0ea4b4b9e8cd0698cc3903ebe": {
          "model_module": "@jupyter-widgets/controls",
          "model_name": "DescriptionStyleModel",
          "model_module_version": "1.5.0",
          "state": {
            "_model_module": "@jupyter-widgets/controls",
            "_model_module_version": "1.5.0",
            "_model_name": "DescriptionStyleModel",
            "_view_count": null,
            "_view_module": "@jupyter-widgets/base",
            "_view_module_version": "1.2.0",
            "_view_name": "StyleView",
            "description_width": ""
          }
        },
        "63a45b8fe93d4e33b4a294248b47fb38": {
          "model_module": "@jupyter-widgets/controls",
          "model_name": "HBoxModel",
          "model_module_version": "1.5.0",
          "state": {
            "_dom_classes": [],
            "_model_module": "@jupyter-widgets/controls",
            "_model_module_version": "1.5.0",
            "_model_name": "HBoxModel",
            "_view_count": null,
            "_view_module": "@jupyter-widgets/controls",
            "_view_module_version": "1.5.0",
            "_view_name": "HBoxView",
            "box_style": "",
            "children": [
              "IPY_MODEL_73f3e8178b9e4c14b70de1a3b82bcb03",
              "IPY_MODEL_94a829ddd516499396f7ec0d361ee2d7",
              "IPY_MODEL_ab0b35b54fd042b3b2c99028870941f7"
            ],
            "layout": "IPY_MODEL_3cb9d8b11b9647aa83b68fdcf00ee210"
          }
        },
        "73f3e8178b9e4c14b70de1a3b82bcb03": {
          "model_module": "@jupyter-widgets/controls",
          "model_name": "HTMLModel",
          "model_module_version": "1.5.0",
          "state": {
            "_dom_classes": [],
            "_model_module": "@jupyter-widgets/controls",
            "_model_module_version": "1.5.0",
            "_model_name": "HTMLModel",
            "_view_count": null,
            "_view_module": "@jupyter-widgets/controls",
            "_view_module_version": "1.5.0",
            "_view_name": "HTMLView",
            "description": "",
            "description_tooltip": null,
            "layout": "IPY_MODEL_2928461cb96647b0ba79c1ded1bfb744",
            "placeholder": "​",
            "style": "IPY_MODEL_7cb4a515577841b6b73d774160ba8fe0",
            "value": "100%"
          }
        },
        "94a829ddd516499396f7ec0d361ee2d7": {
          "model_module": "@jupyter-widgets/controls",
          "model_name": "FloatProgressModel",
          "model_module_version": "1.5.0",
          "state": {
            "_dom_classes": [],
            "_model_module": "@jupyter-widgets/controls",
            "_model_module_version": "1.5.0",
            "_model_name": "FloatProgressModel",
            "_view_count": null,
            "_view_module": "@jupyter-widgets/controls",
            "_view_module_version": "1.5.0",
            "_view_name": "ProgressView",
            "bar_style": "success",
            "description": "",
            "description_tooltip": null,
            "layout": "IPY_MODEL_2c01e2a01f2945e8b61c2a063281f17f",
            "max": 28881,
            "min": 0,
            "orientation": "horizontal",
            "style": "IPY_MODEL_99b4d1913bb4465da06d0a285cc7d849",
            "value": 28881
          }
        },
        "ab0b35b54fd042b3b2c99028870941f7": {
          "model_module": "@jupyter-widgets/controls",
          "model_name": "HTMLModel",
          "model_module_version": "1.5.0",
          "state": {
            "_dom_classes": [],
            "_model_module": "@jupyter-widgets/controls",
            "_model_module_version": "1.5.0",
            "_model_name": "HTMLModel",
            "_view_count": null,
            "_view_module": "@jupyter-widgets/controls",
            "_view_module_version": "1.5.0",
            "_view_name": "HTMLView",
            "description": "",
            "description_tooltip": null,
            "layout": "IPY_MODEL_5fa63e38c468409a9613637fee901502",
            "placeholder": "​",
            "style": "IPY_MODEL_584ad4966d294096aed3124cb7fcc4bd",
            "value": " 28881/28881 [00:00&lt;00:00, 1681412.66it/s]"
          }
        },
        "3cb9d8b11b9647aa83b68fdcf00ee210": {
          "model_module": "@jupyter-widgets/base",
          "model_name": "LayoutModel",
          "model_module_version": "1.2.0",
          "state": {
            "_model_module": "@jupyter-widgets/base",
            "_model_module_version": "1.2.0",
            "_model_name": "LayoutModel",
            "_view_count": null,
            "_view_module": "@jupyter-widgets/base",
            "_view_module_version": "1.2.0",
            "_view_name": "LayoutView",
            "align_content": null,
            "align_items": null,
            "align_self": null,
            "border": null,
            "bottom": null,
            "display": null,
            "flex": null,
            "flex_flow": null,
            "grid_area": null,
            "grid_auto_columns": null,
            "grid_auto_flow": null,
            "grid_auto_rows": null,
            "grid_column": null,
            "grid_gap": null,
            "grid_row": null,
            "grid_template_areas": null,
            "grid_template_columns": null,
            "grid_template_rows": null,
            "height": null,
            "justify_content": null,
            "justify_items": null,
            "left": null,
            "margin": null,
            "max_height": null,
            "max_width": null,
            "min_height": null,
            "min_width": null,
            "object_fit": null,
            "object_position": null,
            "order": null,
            "overflow": null,
            "overflow_x": null,
            "overflow_y": null,
            "padding": null,
            "right": null,
            "top": null,
            "visibility": null,
            "width": null
          }
        },
        "2928461cb96647b0ba79c1ded1bfb744": {
          "model_module": "@jupyter-widgets/base",
          "model_name": "LayoutModel",
          "model_module_version": "1.2.0",
          "state": {
            "_model_module": "@jupyter-widgets/base",
            "_model_module_version": "1.2.0",
            "_model_name": "LayoutModel",
            "_view_count": null,
            "_view_module": "@jupyter-widgets/base",
            "_view_module_version": "1.2.0",
            "_view_name": "LayoutView",
            "align_content": null,
            "align_items": null,
            "align_self": null,
            "border": null,
            "bottom": null,
            "display": null,
            "flex": null,
            "flex_flow": null,
            "grid_area": null,
            "grid_auto_columns": null,
            "grid_auto_flow": null,
            "grid_auto_rows": null,
            "grid_column": null,
            "grid_gap": null,
            "grid_row": null,
            "grid_template_areas": null,
            "grid_template_columns": null,
            "grid_template_rows": null,
            "height": null,
            "justify_content": null,
            "justify_items": null,
            "left": null,
            "margin": null,
            "max_height": null,
            "max_width": null,
            "min_height": null,
            "min_width": null,
            "object_fit": null,
            "object_position": null,
            "order": null,
            "overflow": null,
            "overflow_x": null,
            "overflow_y": null,
            "padding": null,
            "right": null,
            "top": null,
            "visibility": null,
            "width": null
          }
        },
        "7cb4a515577841b6b73d774160ba8fe0": {
          "model_module": "@jupyter-widgets/controls",
          "model_name": "DescriptionStyleModel",
          "model_module_version": "1.5.0",
          "state": {
            "_model_module": "@jupyter-widgets/controls",
            "_model_module_version": "1.5.0",
            "_model_name": "DescriptionStyleModel",
            "_view_count": null,
            "_view_module": "@jupyter-widgets/base",
            "_view_module_version": "1.2.0",
            "_view_name": "StyleView",
            "description_width": ""
          }
        },
        "2c01e2a01f2945e8b61c2a063281f17f": {
          "model_module": "@jupyter-widgets/base",
          "model_name": "LayoutModel",
          "model_module_version": "1.2.0",
          "state": {
            "_model_module": "@jupyter-widgets/base",
            "_model_module_version": "1.2.0",
            "_model_name": "LayoutModel",
            "_view_count": null,
            "_view_module": "@jupyter-widgets/base",
            "_view_module_version": "1.2.0",
            "_view_name": "LayoutView",
            "align_content": null,
            "align_items": null,
            "align_self": null,
            "border": null,
            "bottom": null,
            "display": null,
            "flex": null,
            "flex_flow": null,
            "grid_area": null,
            "grid_auto_columns": null,
            "grid_auto_flow": null,
            "grid_auto_rows": null,
            "grid_column": null,
            "grid_gap": null,
            "grid_row": null,
            "grid_template_areas": null,
            "grid_template_columns": null,
            "grid_template_rows": null,
            "height": null,
            "justify_content": null,
            "justify_items": null,
            "left": null,
            "margin": null,
            "max_height": null,
            "max_width": null,
            "min_height": null,
            "min_width": null,
            "object_fit": null,
            "object_position": null,
            "order": null,
            "overflow": null,
            "overflow_x": null,
            "overflow_y": null,
            "padding": null,
            "right": null,
            "top": null,
            "visibility": null,
            "width": null
          }
        },
        "99b4d1913bb4465da06d0a285cc7d849": {
          "model_module": "@jupyter-widgets/controls",
          "model_name": "ProgressStyleModel",
          "model_module_version": "1.5.0",
          "state": {
            "_model_module": "@jupyter-widgets/controls",
            "_model_module_version": "1.5.0",
            "_model_name": "ProgressStyleModel",
            "_view_count": null,
            "_view_module": "@jupyter-widgets/base",
            "_view_module_version": "1.2.0",
            "_view_name": "StyleView",
            "bar_color": null,
            "description_width": ""
          }
        },
        "5fa63e38c468409a9613637fee901502": {
          "model_module": "@jupyter-widgets/base",
          "model_name": "LayoutModel",
          "model_module_version": "1.2.0",
          "state": {
            "_model_module": "@jupyter-widgets/base",
            "_model_module_version": "1.2.0",
            "_model_name": "LayoutModel",
            "_view_count": null,
            "_view_module": "@jupyter-widgets/base",
            "_view_module_version": "1.2.0",
            "_view_name": "LayoutView",
            "align_content": null,
            "align_items": null,
            "align_self": null,
            "border": null,
            "bottom": null,
            "display": null,
            "flex": null,
            "flex_flow": null,
            "grid_area": null,
            "grid_auto_columns": null,
            "grid_auto_flow": null,
            "grid_auto_rows": null,
            "grid_column": null,
            "grid_gap": null,
            "grid_row": null,
            "grid_template_areas": null,
            "grid_template_columns": null,
            "grid_template_rows": null,
            "height": null,
            "justify_content": null,
            "justify_items": null,
            "left": null,
            "margin": null,
            "max_height": null,
            "max_width": null,
            "min_height": null,
            "min_width": null,
            "object_fit": null,
            "object_position": null,
            "order": null,
            "overflow": null,
            "overflow_x": null,
            "overflow_y": null,
            "padding": null,
            "right": null,
            "top": null,
            "visibility": null,
            "width": null
          }
        },
        "584ad4966d294096aed3124cb7fcc4bd": {
          "model_module": "@jupyter-widgets/controls",
          "model_name": "DescriptionStyleModel",
          "model_module_version": "1.5.0",
          "state": {
            "_model_module": "@jupyter-widgets/controls",
            "_model_module_version": "1.5.0",
            "_model_name": "DescriptionStyleModel",
            "_view_count": null,
            "_view_module": "@jupyter-widgets/base",
            "_view_module_version": "1.2.0",
            "_view_name": "StyleView",
            "description_width": ""
          }
        },
        "74460f3630714f929085d1f6a1bb7999": {
          "model_module": "@jupyter-widgets/controls",
          "model_name": "HBoxModel",
          "model_module_version": "1.5.0",
          "state": {
            "_dom_classes": [],
            "_model_module": "@jupyter-widgets/controls",
            "_model_module_version": "1.5.0",
            "_model_name": "HBoxModel",
            "_view_count": null,
            "_view_module": "@jupyter-widgets/controls",
            "_view_module_version": "1.5.0",
            "_view_name": "HBoxView",
            "box_style": "",
            "children": [
              "IPY_MODEL_b93b09c8b63d432b988da0285e6db23e",
              "IPY_MODEL_184f9cb5928d45789472b529c9dfcbc1",
              "IPY_MODEL_9c29706404e040b7b2a71656f0ba2123"
            ],
            "layout": "IPY_MODEL_37929bead4034e7184b8a9af24847f11"
          }
        },
        "b93b09c8b63d432b988da0285e6db23e": {
          "model_module": "@jupyter-widgets/controls",
          "model_name": "HTMLModel",
          "model_module_version": "1.5.0",
          "state": {
            "_dom_classes": [],
            "_model_module": "@jupyter-widgets/controls",
            "_model_module_version": "1.5.0",
            "_model_name": "HTMLModel",
            "_view_count": null,
            "_view_module": "@jupyter-widgets/controls",
            "_view_module_version": "1.5.0",
            "_view_name": "HTMLView",
            "description": "",
            "description_tooltip": null,
            "layout": "IPY_MODEL_22992cc5cf784cdda2c73baa21561fd3",
            "placeholder": "​",
            "style": "IPY_MODEL_c76954ee30dc483da9fdb18531974d0f",
            "value": "100%"
          }
        },
        "184f9cb5928d45789472b529c9dfcbc1": {
          "model_module": "@jupyter-widgets/controls",
          "model_name": "FloatProgressModel",
          "model_module_version": "1.5.0",
          "state": {
            "_dom_classes": [],
            "_model_module": "@jupyter-widgets/controls",
            "_model_module_version": "1.5.0",
            "_model_name": "FloatProgressModel",
            "_view_count": null,
            "_view_module": "@jupyter-widgets/controls",
            "_view_module_version": "1.5.0",
            "_view_name": "ProgressView",
            "bar_style": "success",
            "description": "",
            "description_tooltip": null,
            "layout": "IPY_MODEL_36df10befd354ed5b6877bc8182ac55c",
            "max": 1648877,
            "min": 0,
            "orientation": "horizontal",
            "style": "IPY_MODEL_c5f9576825304473835e408ff10aea4b",
            "value": 1648877
          }
        },
        "9c29706404e040b7b2a71656f0ba2123": {
          "model_module": "@jupyter-widgets/controls",
          "model_name": "HTMLModel",
          "model_module_version": "1.5.0",
          "state": {
            "_dom_classes": [],
            "_model_module": "@jupyter-widgets/controls",
            "_model_module_version": "1.5.0",
            "_model_name": "HTMLModel",
            "_view_count": null,
            "_view_module": "@jupyter-widgets/controls",
            "_view_module_version": "1.5.0",
            "_view_name": "HTMLView",
            "description": "",
            "description_tooltip": null,
            "layout": "IPY_MODEL_ded71c8cbb9d405ea437991b9035cd01",
            "placeholder": "​",
            "style": "IPY_MODEL_5b6c8df9186d49dbb4ac3c148cd6598c",
            "value": " 1648877/1648877 [00:00&lt;00:00, 12425722.40it/s]"
          }
        },
        "37929bead4034e7184b8a9af24847f11": {
          "model_module": "@jupyter-widgets/base",
          "model_name": "LayoutModel",
          "model_module_version": "1.2.0",
          "state": {
            "_model_module": "@jupyter-widgets/base",
            "_model_module_version": "1.2.0",
            "_model_name": "LayoutModel",
            "_view_count": null,
            "_view_module": "@jupyter-widgets/base",
            "_view_module_version": "1.2.0",
            "_view_name": "LayoutView",
            "align_content": null,
            "align_items": null,
            "align_self": null,
            "border": null,
            "bottom": null,
            "display": null,
            "flex": null,
            "flex_flow": null,
            "grid_area": null,
            "grid_auto_columns": null,
            "grid_auto_flow": null,
            "grid_auto_rows": null,
            "grid_column": null,
            "grid_gap": null,
            "grid_row": null,
            "grid_template_areas": null,
            "grid_template_columns": null,
            "grid_template_rows": null,
            "height": null,
            "justify_content": null,
            "justify_items": null,
            "left": null,
            "margin": null,
            "max_height": null,
            "max_width": null,
            "min_height": null,
            "min_width": null,
            "object_fit": null,
            "object_position": null,
            "order": null,
            "overflow": null,
            "overflow_x": null,
            "overflow_y": null,
            "padding": null,
            "right": null,
            "top": null,
            "visibility": null,
            "width": null
          }
        },
        "22992cc5cf784cdda2c73baa21561fd3": {
          "model_module": "@jupyter-widgets/base",
          "model_name": "LayoutModel",
          "model_module_version": "1.2.0",
          "state": {
            "_model_module": "@jupyter-widgets/base",
            "_model_module_version": "1.2.0",
            "_model_name": "LayoutModel",
            "_view_count": null,
            "_view_module": "@jupyter-widgets/base",
            "_view_module_version": "1.2.0",
            "_view_name": "LayoutView",
            "align_content": null,
            "align_items": null,
            "align_self": null,
            "border": null,
            "bottom": null,
            "display": null,
            "flex": null,
            "flex_flow": null,
            "grid_area": null,
            "grid_auto_columns": null,
            "grid_auto_flow": null,
            "grid_auto_rows": null,
            "grid_column": null,
            "grid_gap": null,
            "grid_row": null,
            "grid_template_areas": null,
            "grid_template_columns": null,
            "grid_template_rows": null,
            "height": null,
            "justify_content": null,
            "justify_items": null,
            "left": null,
            "margin": null,
            "max_height": null,
            "max_width": null,
            "min_height": null,
            "min_width": null,
            "object_fit": null,
            "object_position": null,
            "order": null,
            "overflow": null,
            "overflow_x": null,
            "overflow_y": null,
            "padding": null,
            "right": null,
            "top": null,
            "visibility": null,
            "width": null
          }
        },
        "c76954ee30dc483da9fdb18531974d0f": {
          "model_module": "@jupyter-widgets/controls",
          "model_name": "DescriptionStyleModel",
          "model_module_version": "1.5.0",
          "state": {
            "_model_module": "@jupyter-widgets/controls",
            "_model_module_version": "1.5.0",
            "_model_name": "DescriptionStyleModel",
            "_view_count": null,
            "_view_module": "@jupyter-widgets/base",
            "_view_module_version": "1.2.0",
            "_view_name": "StyleView",
            "description_width": ""
          }
        },
        "36df10befd354ed5b6877bc8182ac55c": {
          "model_module": "@jupyter-widgets/base",
          "model_name": "LayoutModel",
          "model_module_version": "1.2.0",
          "state": {
            "_model_module": "@jupyter-widgets/base",
            "_model_module_version": "1.2.0",
            "_model_name": "LayoutModel",
            "_view_count": null,
            "_view_module": "@jupyter-widgets/base",
            "_view_module_version": "1.2.0",
            "_view_name": "LayoutView",
            "align_content": null,
            "align_items": null,
            "align_self": null,
            "border": null,
            "bottom": null,
            "display": null,
            "flex": null,
            "flex_flow": null,
            "grid_area": null,
            "grid_auto_columns": null,
            "grid_auto_flow": null,
            "grid_auto_rows": null,
            "grid_column": null,
            "grid_gap": null,
            "grid_row": null,
            "grid_template_areas": null,
            "grid_template_columns": null,
            "grid_template_rows": null,
            "height": null,
            "justify_content": null,
            "justify_items": null,
            "left": null,
            "margin": null,
            "max_height": null,
            "max_width": null,
            "min_height": null,
            "min_width": null,
            "object_fit": null,
            "object_position": null,
            "order": null,
            "overflow": null,
            "overflow_x": null,
            "overflow_y": null,
            "padding": null,
            "right": null,
            "top": null,
            "visibility": null,
            "width": null
          }
        },
        "c5f9576825304473835e408ff10aea4b": {
          "model_module": "@jupyter-widgets/controls",
          "model_name": "ProgressStyleModel",
          "model_module_version": "1.5.0",
          "state": {
            "_model_module": "@jupyter-widgets/controls",
            "_model_module_version": "1.5.0",
            "_model_name": "ProgressStyleModel",
            "_view_count": null,
            "_view_module": "@jupyter-widgets/base",
            "_view_module_version": "1.2.0",
            "_view_name": "StyleView",
            "bar_color": null,
            "description_width": ""
          }
        },
        "ded71c8cbb9d405ea437991b9035cd01": {
          "model_module": "@jupyter-widgets/base",
          "model_name": "LayoutModel",
          "model_module_version": "1.2.0",
          "state": {
            "_model_module": "@jupyter-widgets/base",
            "_model_module_version": "1.2.0",
            "_model_name": "LayoutModel",
            "_view_count": null,
            "_view_module": "@jupyter-widgets/base",
            "_view_module_version": "1.2.0",
            "_view_name": "LayoutView",
            "align_content": null,
            "align_items": null,
            "align_self": null,
            "border": null,
            "bottom": null,
            "display": null,
            "flex": null,
            "flex_flow": null,
            "grid_area": null,
            "grid_auto_columns": null,
            "grid_auto_flow": null,
            "grid_auto_rows": null,
            "grid_column": null,
            "grid_gap": null,
            "grid_row": null,
            "grid_template_areas": null,
            "grid_template_columns": null,
            "grid_template_rows": null,
            "height": null,
            "justify_content": null,
            "justify_items": null,
            "left": null,
            "margin": null,
            "max_height": null,
            "max_width": null,
            "min_height": null,
            "min_width": null,
            "object_fit": null,
            "object_position": null,
            "order": null,
            "overflow": null,
            "overflow_x": null,
            "overflow_y": null,
            "padding": null,
            "right": null,
            "top": null,
            "visibility": null,
            "width": null
          }
        },
        "5b6c8df9186d49dbb4ac3c148cd6598c": {
          "model_module": "@jupyter-widgets/controls",
          "model_name": "DescriptionStyleModel",
          "model_module_version": "1.5.0",
          "state": {
            "_model_module": "@jupyter-widgets/controls",
            "_model_module_version": "1.5.0",
            "_model_name": "DescriptionStyleModel",
            "_view_count": null,
            "_view_module": "@jupyter-widgets/base",
            "_view_module_version": "1.2.0",
            "_view_name": "StyleView",
            "description_width": ""
          }
        },
        "23a5e2eacdfc4d478b74a26e28e0f7d9": {
          "model_module": "@jupyter-widgets/controls",
          "model_name": "HBoxModel",
          "model_module_version": "1.5.0",
          "state": {
            "_dom_classes": [],
            "_model_module": "@jupyter-widgets/controls",
            "_model_module_version": "1.5.0",
            "_model_name": "HBoxModel",
            "_view_count": null,
            "_view_module": "@jupyter-widgets/controls",
            "_view_module_version": "1.5.0",
            "_view_name": "HBoxView",
            "box_style": "",
            "children": [
              "IPY_MODEL_440611a249924343b62bd599ddedee8c",
              "IPY_MODEL_ba54f55f81bd427f9e5c76daca60b0b3",
              "IPY_MODEL_d0b3052a60364ec9ac5c82d6aaa0c205"
            ],
            "layout": "IPY_MODEL_64db65eab7f64239854ad59a806cd574"
          }
        },
        "440611a249924343b62bd599ddedee8c": {
          "model_module": "@jupyter-widgets/controls",
          "model_name": "HTMLModel",
          "model_module_version": "1.5.0",
          "state": {
            "_dom_classes": [],
            "_model_module": "@jupyter-widgets/controls",
            "_model_module_version": "1.5.0",
            "_model_name": "HTMLModel",
            "_view_count": null,
            "_view_module": "@jupyter-widgets/controls",
            "_view_module_version": "1.5.0",
            "_view_name": "HTMLView",
            "description": "",
            "description_tooltip": null,
            "layout": "IPY_MODEL_0a6cbe63d97049ac81d1af82d91cd5ad",
            "placeholder": "​",
            "style": "IPY_MODEL_e932ef4a0df240e68526c741f5a85dac",
            "value": "100%"
          }
        },
        "ba54f55f81bd427f9e5c76daca60b0b3": {
          "model_module": "@jupyter-widgets/controls",
          "model_name": "FloatProgressModel",
          "model_module_version": "1.5.0",
          "state": {
            "_dom_classes": [],
            "_model_module": "@jupyter-widgets/controls",
            "_model_module_version": "1.5.0",
            "_model_name": "FloatProgressModel",
            "_view_count": null,
            "_view_module": "@jupyter-widgets/controls",
            "_view_module_version": "1.5.0",
            "_view_name": "ProgressView",
            "bar_style": "success",
            "description": "",
            "description_tooltip": null,
            "layout": "IPY_MODEL_38f1870d449845378c00ddd6ffe79195",
            "max": 4542,
            "min": 0,
            "orientation": "horizontal",
            "style": "IPY_MODEL_6e1c5a3ed36d4782b671d2ed278155c1",
            "value": 4542
          }
        },
        "d0b3052a60364ec9ac5c82d6aaa0c205": {
          "model_module": "@jupyter-widgets/controls",
          "model_name": "HTMLModel",
          "model_module_version": "1.5.0",
          "state": {
            "_dom_classes": [],
            "_model_module": "@jupyter-widgets/controls",
            "_model_module_version": "1.5.0",
            "_model_name": "HTMLModel",
            "_view_count": null,
            "_view_module": "@jupyter-widgets/controls",
            "_view_module_version": "1.5.0",
            "_view_name": "HTMLView",
            "description": "",
            "description_tooltip": null,
            "layout": "IPY_MODEL_96a65380d5a24393a649d0a3895a2e97",
            "placeholder": "​",
            "style": "IPY_MODEL_3230b3ecc40545be9bec443418f89141",
            "value": " 4542/4542 [00:00&lt;00:00, 231775.18it/s]"
          }
        },
        "64db65eab7f64239854ad59a806cd574": {
          "model_module": "@jupyter-widgets/base",
          "model_name": "LayoutModel",
          "model_module_version": "1.2.0",
          "state": {
            "_model_module": "@jupyter-widgets/base",
            "_model_module_version": "1.2.0",
            "_model_name": "LayoutModel",
            "_view_count": null,
            "_view_module": "@jupyter-widgets/base",
            "_view_module_version": "1.2.0",
            "_view_name": "LayoutView",
            "align_content": null,
            "align_items": null,
            "align_self": null,
            "border": null,
            "bottom": null,
            "display": null,
            "flex": null,
            "flex_flow": null,
            "grid_area": null,
            "grid_auto_columns": null,
            "grid_auto_flow": null,
            "grid_auto_rows": null,
            "grid_column": null,
            "grid_gap": null,
            "grid_row": null,
            "grid_template_areas": null,
            "grid_template_columns": null,
            "grid_template_rows": null,
            "height": null,
            "justify_content": null,
            "justify_items": null,
            "left": null,
            "margin": null,
            "max_height": null,
            "max_width": null,
            "min_height": null,
            "min_width": null,
            "object_fit": null,
            "object_position": null,
            "order": null,
            "overflow": null,
            "overflow_x": null,
            "overflow_y": null,
            "padding": null,
            "right": null,
            "top": null,
            "visibility": null,
            "width": null
          }
        },
        "0a6cbe63d97049ac81d1af82d91cd5ad": {
          "model_module": "@jupyter-widgets/base",
          "model_name": "LayoutModel",
          "model_module_version": "1.2.0",
          "state": {
            "_model_module": "@jupyter-widgets/base",
            "_model_module_version": "1.2.0",
            "_model_name": "LayoutModel",
            "_view_count": null,
            "_view_module": "@jupyter-widgets/base",
            "_view_module_version": "1.2.0",
            "_view_name": "LayoutView",
            "align_content": null,
            "align_items": null,
            "align_self": null,
            "border": null,
            "bottom": null,
            "display": null,
            "flex": null,
            "flex_flow": null,
            "grid_area": null,
            "grid_auto_columns": null,
            "grid_auto_flow": null,
            "grid_auto_rows": null,
            "grid_column": null,
            "grid_gap": null,
            "grid_row": null,
            "grid_template_areas": null,
            "grid_template_columns": null,
            "grid_template_rows": null,
            "height": null,
            "justify_content": null,
            "justify_items": null,
            "left": null,
            "margin": null,
            "max_height": null,
            "max_width": null,
            "min_height": null,
            "min_width": null,
            "object_fit": null,
            "object_position": null,
            "order": null,
            "overflow": null,
            "overflow_x": null,
            "overflow_y": null,
            "padding": null,
            "right": null,
            "top": null,
            "visibility": null,
            "width": null
          }
        },
        "e932ef4a0df240e68526c741f5a85dac": {
          "model_module": "@jupyter-widgets/controls",
          "model_name": "DescriptionStyleModel",
          "model_module_version": "1.5.0",
          "state": {
            "_model_module": "@jupyter-widgets/controls",
            "_model_module_version": "1.5.0",
            "_model_name": "DescriptionStyleModel",
            "_view_count": null,
            "_view_module": "@jupyter-widgets/base",
            "_view_module_version": "1.2.0",
            "_view_name": "StyleView",
            "description_width": ""
          }
        },
        "38f1870d449845378c00ddd6ffe79195": {
          "model_module": "@jupyter-widgets/base",
          "model_name": "LayoutModel",
          "model_module_version": "1.2.0",
          "state": {
            "_model_module": "@jupyter-widgets/base",
            "_model_module_version": "1.2.0",
            "_model_name": "LayoutModel",
            "_view_count": null,
            "_view_module": "@jupyter-widgets/base",
            "_view_module_version": "1.2.0",
            "_view_name": "LayoutView",
            "align_content": null,
            "align_items": null,
            "align_self": null,
            "border": null,
            "bottom": null,
            "display": null,
            "flex": null,
            "flex_flow": null,
            "grid_area": null,
            "grid_auto_columns": null,
            "grid_auto_flow": null,
            "grid_auto_rows": null,
            "grid_column": null,
            "grid_gap": null,
            "grid_row": null,
            "grid_template_areas": null,
            "grid_template_columns": null,
            "grid_template_rows": null,
            "height": null,
            "justify_content": null,
            "justify_items": null,
            "left": null,
            "margin": null,
            "max_height": null,
            "max_width": null,
            "min_height": null,
            "min_width": null,
            "object_fit": null,
            "object_position": null,
            "order": null,
            "overflow": null,
            "overflow_x": null,
            "overflow_y": null,
            "padding": null,
            "right": null,
            "top": null,
            "visibility": null,
            "width": null
          }
        },
        "6e1c5a3ed36d4782b671d2ed278155c1": {
          "model_module": "@jupyter-widgets/controls",
          "model_name": "ProgressStyleModel",
          "model_module_version": "1.5.0",
          "state": {
            "_model_module": "@jupyter-widgets/controls",
            "_model_module_version": "1.5.0",
            "_model_name": "ProgressStyleModel",
            "_view_count": null,
            "_view_module": "@jupyter-widgets/base",
            "_view_module_version": "1.2.0",
            "_view_name": "StyleView",
            "bar_color": null,
            "description_width": ""
          }
        },
        "96a65380d5a24393a649d0a3895a2e97": {
          "model_module": "@jupyter-widgets/base",
          "model_name": "LayoutModel",
          "model_module_version": "1.2.0",
          "state": {
            "_model_module": "@jupyter-widgets/base",
            "_model_module_version": "1.2.0",
            "_model_name": "LayoutModel",
            "_view_count": null,
            "_view_module": "@jupyter-widgets/base",
            "_view_module_version": "1.2.0",
            "_view_name": "LayoutView",
            "align_content": null,
            "align_items": null,
            "align_self": null,
            "border": null,
            "bottom": null,
            "display": null,
            "flex": null,
            "flex_flow": null,
            "grid_area": null,
            "grid_auto_columns": null,
            "grid_auto_flow": null,
            "grid_auto_rows": null,
            "grid_column": null,
            "grid_gap": null,
            "grid_row": null,
            "grid_template_areas": null,
            "grid_template_columns": null,
            "grid_template_rows": null,
            "height": null,
            "justify_content": null,
            "justify_items": null,
            "left": null,
            "margin": null,
            "max_height": null,
            "max_width": null,
            "min_height": null,
            "min_width": null,
            "object_fit": null,
            "object_position": null,
            "order": null,
            "overflow": null,
            "overflow_x": null,
            "overflow_y": null,
            "padding": null,
            "right": null,
            "top": null,
            "visibility": null,
            "width": null
          }
        },
        "3230b3ecc40545be9bec443418f89141": {
          "model_module": "@jupyter-widgets/controls",
          "model_name": "DescriptionStyleModel",
          "model_module_version": "1.5.0",
          "state": {
            "_model_module": "@jupyter-widgets/controls",
            "_model_module_version": "1.5.0",
            "_model_name": "DescriptionStyleModel",
            "_view_count": null,
            "_view_module": "@jupyter-widgets/base",
            "_view_module_version": "1.2.0",
            "_view_name": "StyleView",
            "description_width": ""
          }
        }
      }
    },
    "accelerator": "GPU",
    "gpuClass": "standard"
  },
  "nbformat": 4,
  "nbformat_minor": 0
}